{
 "cells": [
  {
   "cell_type": "markdown",
   "metadata": {},
   "source": [
    "# Regularized Saturated Models for Classification Tasks with Categorical Variables\n",
    "\n",
    "Contingency tables are great for probablilty mass estimation, but can also be used for classification and regression tasks. \n"
   ]
  },
  {
   "cell_type": "markdown",
   "metadata": {},
   "source": [
    "Assume we have $M$ independent variables, for which we will use $i$, $j$, $k$ to denote an index. We also have one dependent variable, the values of which is are indexed using $v$. Then the classification problem can be written as :\n",
    "\n",
    "$$ p(y_v | x_{ij\\ldots k}) = \\frac{p_{vij\\ldots k}}{p_{+ij\\ldots k}} $$\n",
    "\n",
    "Here the symbol $+$ implies taking a sum, like in this example:\n",
    "\n",
    "$$ p_{i+} = \\sum_k{p_{ik}} $$\n",
    "\n",
    "So if we have the probability mass problem solved it is trivial to solve the classification problem as well. "
   ]
  },
  {
   "cell_type": "markdown",
   "metadata": {},
   "source": [
    "To estimate $p_{vij\\ldots k}$, we take the counts of the training data $m_{vij\\ldots k}$ and use a Multinomial model with the following log-likelihood:\n",
    "\n",
    "$$ L = \\sum_{vij\\ldots k}{m_{vij\\ldots k}log p_{vij\\ldots k}}$$\n",
    "\n",
    "\n"
   ]
  },
  {
   "cell_type": "markdown",
   "metadata": {},
   "source": [
    "## Naive Bayes prior\n",
    "\n",
    "The likelihood function above is the same as for the probability mass estimate, but the prior is slightly different. Here our prior assumptions are that the data can be classified using Naive Bayes algorithm and a weaker assumption that all the variables are independent (we need that weaker assumption to make sure none of the probabilities $p_{vij\\ldots k}$ are zero.\n",
    "\n",
    "The Naive Bayes assumption can be expressed like this:\n",
    "\n",
    "$$ p_{vij\\ldots k} = p(y, x_1\\ldots x_M) = p(y) \\prod_{m=1}^M{p(x_m|y)} = \\big[p(y)\\big]^{1-M} \\prod_{m=1}^M{p(x_m,y)} $$\n",
    "\n",
    "Here $p(x_m|y)$ is derived by summing along all indexes except y and m"
   ]
  },
  {
   "cell_type": "markdown",
   "metadata": {},
   "source": [
    "## Independence prior\n",
    "\n",
    "Independence prior is also very simple:\n",
    "\n",
    "$$ p_{vij\\ldots k} = p(y) \\prod_{m=1}^M{p(x_m)}$$\n"
   ]
  },
  {
   "cell_type": "markdown",
   "metadata": {},
   "source": [
    "## Posterior distribution\n",
    "\n",
    "Here we will bring together likelihood and both prior distributions.\n",
    "\n",
    "Let:\n",
    "\n",
    "$$ R_{vij\\ldots k} = \\lambda_1\\big(\\big[p(y)\\big]^{1-M} \\prod_{m=1}^M{p(x_m,y)}\\big) + \\lambda_2 \\big( p(y) \\prod_{m=1}^M{p(x_m)}\\big), $$\n",
    "\n",
    "where $\\lambda_1$ and $\\lambda_2$ are hyperparameters.\n",
    "\n",
    "Then the log of the posterior distribution is:\n",
    "\n",
    "$$ \\mathcal{P} = \\sum_{vij\\ldots k}({m_{vij\\ldots k} + R_{vij\\ldots k})log p_{vij\\ldots k}} - \\sum_{ij}{log \\Gamma(R_{vij\\ldots k})}$$\n",
    "\n",
    "\n",
    "\n",
    "\n"
   ]
  },
  {
   "cell_type": "markdown",
   "metadata": {},
   "source": [
    "## Mercedes-Benz data"
   ]
  },
  {
   "cell_type": "code",
   "execution_count": 4,
   "metadata": {},
   "outputs": [],
   "source": [
    "import numpy as np\n",
    "import pandas as pd\n",
    "import tensorflow as tf\n",
    "from matplotlib import pyplot as plt\n",
    "%matplotlib inline\n",
    "from sklearn.preprocessing import LabelEncoder,KBinsDiscretizer\n",
    "import functools"
   ]
  },
  {
   "cell_type": "code",
   "execution_count": 5,
   "metadata": {},
   "outputs": [],
   "source": [
    "all_data = pd.read_csv('data/train.csv.zip')\n",
    "kaggle_test_data = pd.read_csv('data/test.csv.zip')\n",
    "combined = pd.concat([all_data, kaggle_test_data], axis=0, sort=False)\n",
    "cat_column_names = ['X0', 'X1', 'X2', 'X3', 'X4', 'X5', 'X6', 'X8']\n",
    "label_encoders = {col: LabelEncoder().fit(combined[col]) for col in cat_column_names}\n",
    "\n",
    "def preprocess_data(df: pd.DataFrame) -> pd.DataFrame:\n",
    "\n",
    "    # Removing duplicate or constant columns\n",
    "    # as per https://www.kaggle.com/yohanb/categorical-features-encoding-xgb-0-554\n",
    "    columns_to_remove = ['X93', 'X107', 'X233', 'X235', 'X268', 'X289', 'X290', 'X293', 'X297', 'X330', 'X347',\n",
    "                     'X382', 'X232', 'X279', 'X35', 'X37', 'X39', 'X302', 'X113', 'X134', 'X147', 'X222',\n",
    "                     'X102', 'X214', 'X239', 'X76', 'X324', 'X248', 'X253', 'X385', 'X172', 'X216', 'X213',\n",
    "                     'X84', 'X244', 'X122', 'X243', 'X320', 'X245', 'X94', 'X242', 'X199', 'X119', 'X227',\n",
    "                     'X146', 'X226', 'X326', 'X360', 'X262', 'X266', 'X247', 'X254', 'X364', 'X365', 'X296', 'X299',\n",
    "                     'X11', 'X93', 'X107', 'X233', 'X235', 'X268', 'X289', 'X290', 'X293', 'X297', 'X330', 'X347']\n",
    "    data1 = df.drop(columns=columns_to_remove)\n",
    "    for col, encoder in label_encoders.items():\n",
    "        data1[col] = encoder.transform(data1[col])\n",
    "        \n",
    "    return data1\n",
    "\n",
    "train_data = preprocess_data(all_data)\n",
    "kaggle_data = preprocess_data(kaggle_test_data)\n",
    "\n"
   ]
  },
  {
   "cell_type": "markdown",
   "metadata": {},
   "source": [
    "## Discretizing the target variable\n",
    "\n",
    "In this task the target variable y is actually continuous. Here  is the histogram of this variable:"
   ]
  },
  {
   "cell_type": "code",
   "execution_count": 6,
   "metadata": {},
   "outputs": [
    {
     "data": {
      "image/png": "[encoded data removed]",
      "text/plain": [
       "<Figure size 432x288 with 1 Axes>"
      ]
     },
     "metadata": {
      "needs_background": "light"
     },
     "output_type": "display_data"
    }
   ],
   "source": [
    "train_data.iloc[:,1].hist(bins=50);"
   ]
  },
  {
   "cell_type": "markdown",
   "metadata": {},
   "source": [
    "This is a multimodal distribution with a certain degree of smoothness. To change it to a continuous variable we can discretize it."
   ]
  },
  {
   "cell_type": "code",
   "execution_count": 7,
   "metadata": {},
   "outputs": [],
   "source": [
    "y_bins = 50"
   ]
  },
  {
   "cell_type": "code",
   "execution_count": 8,
   "metadata": {},
   "outputs": [],
   "source": [
    "# This really should be done on the training set.\n",
    "# We will do that once we make sure the model is working\n",
    "discretizer = KBinsDiscretizer(n_bins=y_bins, encode='ordinal', )\n",
    "discretized_y = discretizer.fit_transform(train_data.y.values.reshape(-1, 1))"
   ]
  },
  {
   "cell_type": "code",
   "execution_count": 9,
   "metadata": {},
   "outputs": [],
   "source": [
    "# This function does inverse transform, given an array of probabilities\n",
    "def inverse_discretizer(discretizer, probabilities):\n",
    "    assert discretizer.n_bins_ == probabilities.shape[-1]\n",
    "    all_options = np.arange(discretizer.n_bins_).reshape(-1,1)\n",
    "    all_options_transformed = discretizer.inverse_transform(all_options)\n",
    "    expected_y = probabilities @ all_options_transformed\n",
    "    return expected_y"
   ]
  },
  {
   "cell_type": "code",
   "execution_count": 10,
   "metadata": {},
   "outputs": [],
   "source": [
    "def test_inverse_discretizer():\n",
    "    discretizer = KBinsDiscretizer(n_bins=50, encode='ordinal', )\n",
    "    discretized_y = discretizer.fit_transform(train_data.y.values.reshape(-1, 1))\n",
    "    probabilities = np.zeros([5, 50])\n",
    "    probabilities[:,-1] = 1\n",
    "    print(inverse_discretizer(discretizer, probabilities))"
   ]
  },
  {
   "cell_type": "code",
   "execution_count": 11,
   "metadata": {},
   "outputs": [
    {
     "name": "stdout",
     "output_type": "stream",
     "text": [
      "[[197.3096]\n",
      " [197.3096]\n",
      " [197.3096]\n",
      " [197.3096]\n",
      " [197.3096]]\n"
     ]
    }
   ],
   "source": [
    "test_inverse_discretizer()"
   ]
  },
  {
   "cell_type": "markdown",
   "metadata": {},
   "source": [
    "## Training the deep learning model\n",
    "\n",
    "First we need to figure out the shape of the parameter array"
   ]
  },
  {
   "cell_type": "code",
   "execution_count": 12,
   "metadata": {},
   "outputs": [],
   "source": [
    "# Find the shape of the parameter array\n",
    "def get_parameter_shape(input_array):\n",
    "    return tuple(np.max(input_array, axis=0).astype(int)+1)"
   ]
  },
  {
   "cell_type": "code",
   "execution_count": 13,
   "metadata": {},
   "outputs": [
    {
     "data": {
      "text/plain": [
       "319"
      ]
     },
     "execution_count": 13,
     "metadata": {},
     "output_type": "execute_result"
    }
   ],
   "source": [
    "test_shape = get_parameter_shape(train_data.iloc[:,2:])\n",
    "len(test_shape)"
   ]
  },
  {
   "cell_type": "code",
   "execution_count": 14,
   "metadata": {},
   "outputs": [
    {
     "data": {
      "text/plain": [
       "array([[49., 37., 23., ...,  0.,  0.,  0.],\n",
       "       [ 6., 37., 21., ...,  0.,  0.,  0.],\n",
       "       [ 0., 24., 24., ...,  0.,  0.,  0.],\n",
       "       [ 1., 24., 21., ...,  0.,  0.,  0.],\n",
       "       [ 1., 24., 23., ...,  0.,  0.,  0.]])"
      ]
     },
     "execution_count": 14,
     "metadata": {},
     "output_type": "execute_result"
    }
   ],
   "source": [
    "discretized_train_data = np.hstack([discretized_y, train_data.values[:,2:]])\n",
    "discretized_train_data[:5,:]"
   ]
  },
  {
   "cell_type": "markdown",
   "metadata": {},
   "source": [
    "Since we cannot use the multidimensional array with this many dimensions, we have to flatten it. For this we need to create a map from the array of features to a position in the probability array"
   ]
  },
  {
   "cell_type": "code",
   "execution_count": 17,
   "metadata": {},
   "outputs": [],
   "source": [
    "def get_dimensions():\n",
    "    \"To get the dimensionality of all dimensions\"\n",
    "    columns = list(train_data.columns)[2:]\n",
    "    dimensions = [50]\n",
    "    for column  in columns:\n",
    "        if column in label_encoders.keys():\n",
    "            dimensions.append(len(label_encoders[column].classes_))\n",
    "        else:\n",
    "            dimensions.append(2)\n",
    "    return dimensions"
   ]
  },
  {
   "cell_type": "code",
   "execution_count": 19,
   "metadata": {},
   "outputs": [],
   "source": [
    "dimensions = get_dimensions()"
   ]
  },
  {
   "cell_type": "code",
   "execution_count": null,
   "metadata": {},
   "outputs": [],
   "source": []
  },
  {
   "cell_type": "code",
   "execution_count": null,
   "metadata": {},
   "outputs": [],
   "source": [
    "def train_model(data, lambda_1, lambda_2, epochs, verbose=False):\n",
    "    \"\"\"\n",
    "    data: assuming the first column is discretized y!\n",
    "    \"\"\"\n",
    "    shape = get_parameter_shape(data)\n",
    "    print(shape)\n",
    "    data = data.astype(int)\n",
    "      \n",
    "    c_init = tf.zeros_initializer()\n",
    "    c = tf.Variable(initial_value=c_init(shape=shape, dtype=\"float32\"), trainable=True)\n",
    "    \n",
    "    def _get_probabilities():\n",
    "        c_flattened = tf.reshape(c, (1,-1))\n",
    "        p = tf.reshape(tf.nn.softmax(c_flattened), shape)\n",
    "        log_p = tf.reshape(tf.nn.log_softmax(c_flattened), shape)\n",
    "        return p, log_p\n",
    "    \n",
    "    def compute_loss():\n",
    "        epsilon = 1E-10\n",
    "        p, log_p = _get_probabilities()\n",
    "        \n",
    "        #Marginal probabilities\n",
    "        all_dimensions = list(range(len(shape)))\n",
    "        p1 = [tf.reduce_sum(p, all_dimensions-[i], keepdims=True) for i in all_dimensions]\n",
    "        if verbose:\n",
    "            print('p1[5].shape', p1[5].shape)\n",
    "        marginal_p = functools.reduce(tf.multiply, p1)\n",
    "        \n",
    "        #Probabilities of naive-bayes\n",
    "        x_dimensions = list(range(1,len(shape)))\n",
    "        p2 = [tf.reduce_sum(p, x_dimensions-[i], keepdims=True) for i in x_dimensions]\n",
    "        if verbose:\n",
    "            print('p2[5].shape', p2[5].shape)\n",
    "        naive_bayes = functools.reduce(tf.multiply, p2)\n",
    "        naive_bayes = p1[0] ** (-len(x_dimensions)) * naive_bayes\n",
    "        \n",
    "        log_likelihood_tensor = tf.gather_nd(log_p, data)\n",
    "        if verbose:\n",
    "            print('log_likelihood_tensor.shape', log_likelihood_tensor.shape)           \n",
    "        log_likelihood = tf.reduce_mean(log_likelihood_tensor, axis=None)\n",
    "        \n",
    "        log_prior_central_tendency = lambda_1 * naive_bayes + lambda_2 * marginal_p\n",
    "        log_prior_tensor = log_prior_central_tendency * log_p + \\\n",
    "            tf.math.lgamma(log_prior_central_tendency + epsilon)\n",
    "        if verbose:\n",
    "            print('log_prior_tensor.shape', log_prior_tensor.shape)\n",
    "        log_prior = tf.reduce_mean(log_prior_tensor, axis=None)\n",
    "        \n",
    "        return -log_likelihood-log_prior\n",
    "    \n",
    "    optimizer = tf.keras.optimizers.Adam(learning_rate=3.0)\n",
    "    for i in range(epochs):\n",
    "        optimizer.minimize(compute_loss, var_list=[c])\n",
    "        if (i % 20 == 0) and verbose:\n",
    "            print(compute_loss().numpy())\n",
    "    \n",
    "    \n",
    "    return _get_probabilities()[0].numpy()"
   ]
  },
  {
   "cell_type": "markdown",
   "metadata": {},
   "source": [
    "Here's the quick rundown of the code:\n",
    "1. The probabilities $p_{ij}$ take the values between 0 and 1 and should all add up to 1. For this reason I used a common trick and use `softmax` function that takes a variable $c$ and produces $p$ that satisfies these constraints. Correspondingly, the model learns the values of $c$.\n",
    "1. TensorFlow also provides function `log_softmax` that helps avoid the case of extreme large values returned by `softmax`\n",
    "1. The code is using TensorFlow 2.x. So instead of using `Session.run()` we just call a function (in our case `_get_probabilities()`). Honestly, I don't miss TensorFlow 1.x\n",
    "1. To compute $p_{i+} p_{+j}$ we use matrix multiplication. It is the fastest way.\n",
    "1. Function `lgamma()` is used instead of computing Gamma function first then taking a log\n",
    "1. Gamma function of zero is not defined. This makes the cost function unstable. To deal with that we add a small positive value `epsilon` to the argument, which takes care of the issue.\n",
    "1. We have a custom training loop and using Adam optimizer. \n",
    "1. The function returns an Numpy array of probabilities.\n",
    "\n",
    "Let's train the model for several values of the regularization parameter $\\lambda$:\n"
   ]
  },
  {
   "cell_type": "code",
   "execution_count": null,
   "metadata": {},
   "outputs": [],
   "source": []
  },
  {
   "cell_type": "code",
   "execution_count": null,
   "metadata": {},
   "outputs": [],
   "source": [
    "result = train_model(discretized_train_data, 0.5, 0.5, 200, False)\n"
   ]
  },
  {
   "cell_type": "code",
   "execution_count": null,
   "metadata": {},
   "outputs": [],
   "source": [
    "probabilities = to_data_frame(result)\n",
    "probabilities* np.sum(salary_experience_array)"
   ]
  },
  {
   "cell_type": "markdown",
   "metadata": {},
   "source": [
    "As we see, the predicted counts match the training data very closely. Let's see what the predictions would be for high value of regularization"
   ]
  },
  {
   "cell_type": "code",
   "execution_count": null,
   "metadata": {},
   "outputs": [],
   "source": [
    "result = run_experiment(salary_experience_array, 500, 100, False)\n",
    "metric(salary_experience_array, result * np.sum(salary_experience_array))"
   ]
  },
  {
   "cell_type": "code",
   "execution_count": null,
   "metadata": {},
   "outputs": [],
   "source": [
    "probabilities = to_data_frame(result)\n",
    "probabilities* np.sum(salary_experience_array)"
   ]
  },
  {
   "cell_type": "markdown",
   "metadata": {},
   "source": [
    "We see that the dependence is much lower, and the predictions is much more smooth, meaning that there are no zeros or exreme values. However the model does not fit very well to the data. How to find optimal regularization parameter $\\lambda$? We will use cross-validation, a common method in machine learning."
   ]
  },
  {
   "cell_type": "markdown",
   "metadata": {},
   "source": [
    "## Cross-validation\n",
    "Our plan is to generate five folds of data and run the train the model for different values of the regularization hyperparameter. For every split we train the model on the training data and test it on the test data. As a metric here we use cross-entropy loss (the first component returning by the `result_metric` function). We use grid search in logarithmic scale."
   ]
  },
  {
   "cell_type": "code",
   "execution_count": null,
   "metadata": {},
   "outputs": [],
   "source": [
    "def sample_single(data, test_fraction):\n",
    "    \"\"\"Create train and test set\"\"\"\n",
    "    test = np.zeros(shape=data.shape)\n",
    "    for i in range(test.shape[0]):\n",
    "        for j in range(test.shape[1]):\n",
    "            test[i,j] = np.sum(np.random.choice([0,1], size=data[i,j], p=[1-test_fraction, test_fraction]))\n",
    "    return data - test, test"
   ]
  },
  {
   "cell_type": "code",
   "execution_count": null,
   "metadata": {},
   "outputs": [],
   "source": [
    "#Generating 5 folds\n",
    "np.random.seed(2128506)\n",
    "splits = [sample_single(salary_experience_array, 0.2) for _ in range(5)]"
   ]
  },
  {
   "cell_type": "code",
   "execution_count": null,
   "metadata": {},
   "outputs": [],
   "source": [
    "def run_cv(data, regularization, epochs, verbose=False):\n",
    "    cs_sum = 0\n",
    "    for train, test in splits:\n",
    "        result = run_experiment(train, regularization, epochs, verbose)\n",
    "        result_metric = metric(test, result * np.sum(test))\n",
    "        cs_sum += result_metric['Fit to data']\n",
    "    return cs_sum / len(data)\n",
    "    "
   ]
  },
  {
   "cell_type": "code",
   "execution_count": null,
   "metadata": {},
   "outputs": [],
   "source": [
    "cv_results = {regularization: run_cv(salary_experience_array, regularization, 300) \n",
    "              for regularization in [0,2,4,8,16,64,128, 256]}"
   ]
  },
  {
   "cell_type": "code",
   "execution_count": null,
   "metadata": {},
   "outputs": [],
   "source": [
    "cv_results"
   ]
  },
  {
   "cell_type": "code",
   "execution_count": null,
   "metadata": {},
   "outputs": [],
   "source": [
    "results_df = pd.DataFrame(cv_results, index=['Regularization', \"CV Performance\"])\n",
    "results_df.T.plot();"
   ]
  },
  {
   "cell_type": "markdown",
   "metadata": {},
   "source": [
    "Based on the cross-validation results the best performance of the model happens when $\\lambda = 64$. We can also see that the model performance changes little after $\\lambda = 4$. Perhaps it makes sense to average several models of comparable performance. Let's see the results generated by the best model:"
   ]
  },
  {
   "cell_type": "code",
   "execution_count": null,
   "metadata": {},
   "outputs": [],
   "source": [
    "result = run_experiment(salary_experience_array, 64, 500, False)\n",
    "metric(salary_experience_array, result * np.sum(salary_experience_array))"
   ]
  },
  {
   "cell_type": "code",
   "execution_count": null,
   "metadata": {},
   "outputs": [],
   "source": [
    "probabilities = to_data_frame(result)\n",
    "probabilities* np.sum(salary_experience_array)"
   ]
  },
  {
   "cell_type": "markdown",
   "metadata": {},
   "source": [
    "We see a good balance between prediction smoothness and how well it fit the training data."
   ]
  },
  {
   "cell_type": "markdown",
   "metadata": {},
   "source": [
    "## Conclusion\n",
    "Here we considered a fully Bayesian approach for contingency table smoothing. This approach is different from pseudo-Bayes approach [2,3], where the prior distribution is defined using the data. We can take advantage of compute power that was not available in the 1970s, and use the true Bayesian approach to get more consistent results. It is certainly possible to use the same method for a higher number of dimensions as most real world data are. In this article I used a two dimensional contingency table solely because it is much easier to visualize than multidimensional tables."
   ]
  },
  {
   "cell_type": "markdown",
   "metadata": {},
   "source": [
    "## References\n",
    "\n",
    "[1] Alan Agresti, Categorical data analysis, Whiley, 1990\n",
    "\n",
    "[2] Yvonne Bishop et al., Discrete Multivariate Analysis, MIT, 1975\n",
    "\n",
    "[3] Stephen E. Fienberg and Paul W. Holland, Simultaneous Estimation of Multinomial\n",
    "Cell Probabilities, Journal of the American Statistical Association 68(343):683-691, 1973"
   ]
  }
 ],
 "metadata": {
  "kernelspec": {
   "display_name": "Python 3",
   "language": "python",
   "name": "python3"
  },
  "language_info": {
   "codemirror_mode": {
    "name": "ipython",
    "version": 3
   },
   "file_extension": ".py",
   "mimetype": "text/x-python",
   "name": "python",
   "nbconvert_exporter": "python",
   "pygments_lexer": "ipython3",
   "version": "3.7.6"
  }
 },
 "nbformat": 4,
 "nbformat_minor": 4
}