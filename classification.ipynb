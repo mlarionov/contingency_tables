{
 "cells": [
  {
   "cell_type": "markdown",
   "metadata": {},
   "source": [
    "# Regularized Saturated Models for Classification Tasks with Categorical Variables\n",
    "\n",
    "Contingency tables are great for probablilty mass estimation, but can also be used for classification and regression tasks. \n"
   ]
  },
  {
   "cell_type": "markdown",
   "metadata": {},
   "source": [
    "Assume we have $M$ independent variables, for which we will use $i$, $j$, $k$ to denote an index. We also have one dependent variable, the values of which is are indexed using $v$. Then the classification problem can be written as :\n",
    "\n",
    "$$ p(y_v | x_{ij\\ldots k}) = \\frac{p_{vij\\ldots k}}{p_{+ij\\ldots k}} $$\n",
    "\n",
    "Here the symbol $+$ implies taking a sum, like in this example:\n",
    "\n",
    "$$ p_{i+} = \\sum_k{p_{ik}} $$\n",
    "\n",
    "So if we have the probability mass problem solved it is trivial to solve the classification problem as well. "
   ]
  },
  {
   "cell_type": "markdown",
   "metadata": {},
   "source": [
    "To estimate $p_{vij\\ldots k}$, we take the counts of the training data $m_{vij\\ldots k}$ and use a Multinomial model with the following log-likelihood:\n",
    "\n",
    "$$ L = \\sum_{vij\\ldots k}{m_{vij\\ldots k}log p_{vij\\ldots k}}$$\n",
    "\n",
    "\n"
   ]
  },
  {
   "cell_type": "markdown",
   "metadata": {},
   "source": [
    "## Naive Bayes prior\n",
    "\n",
    "The likelihood function above is the same as for the probability mass estimate, but the prior is slightly different. Here our prior assumptions are that the data can be classified using Naive Bayes algorithm and a weaker assumption that all the variables are independent (we need that weaker assumption to make sure none of the probabilities $p_{vij\\ldots k}$ are zero.\n",
    "\n",
    "The Naive Bayes assumption can be expressed like this:\n",
    "\n",
    "$$ p_{vij\\ldots k} = p(y, x_1\\ldots x_M) = p(y) \\prod_{m=1}^M{p(x_m|y)} = \\big[p(y)\\big]^{1-M} \\prod_{m=1}^M{p(x_m,y)} $$\n",
    "\n",
    "Here $p(x_m|y)$ is derived by summing along all indexes except y and m"
   ]
  },
  {
   "cell_type": "markdown",
   "metadata": {},
   "source": [
    "## Independence prior\n",
    "\n",
    "Independence prior is also very simple:\n",
    "\n",
    "$$ p_{vij\\ldots k} = p(y) \\prod_{m=1}^M{p(x_m)}$$\n"
   ]
  },
  {
   "cell_type": "markdown",
   "metadata": {},
   "source": [
    "## Posterior distribution\n",
    "\n",
    "Here we will bring together likelihood and both prior distributions.\n",
    "\n",
    "Let:\n",
    "\n",
    "$$ R_{vij\\ldots k} = \\lambda_1\\big(\\big[p(y)\\big]^{1-M} \\prod_{m=1}^M{p(x_m,y)}\\big) + \\lambda_2 \\big( p(y) \\prod_{m=1}^M{p(x_m)}\\big), $$\n",
    "\n",
    "where $\\lambda_1$ and $\\lambda_2$ are hyperparameters.\n",
    "\n",
    "Then the log of the posterior distribution is:\n",
    "\n",
    "$$ \\mathcal{P} = \\sum_{vij\\ldots k}({m_{vij\\ldots k} + R_{vij\\ldots k})log p_{vij\\ldots k}} - \\sum_{ij}{log \\Gamma(R_{vij\\ldots k})}$$\n",
    "\n",
    "\n",
    "\n",
    "\n"
   ]
  },
  {
   "cell_type": "markdown",
   "metadata": {},
   "source": [
    "## Mercedes-Benz data"
   ]
  },
  {
   "cell_type": "code",
   "execution_count": 57,
   "metadata": {},
   "outputs": [],
   "source": [
    "import numpy as np\n",
    "import pandas as pd\n",
    "import tensorflow as tf\n",
    "from matplotlib import pyplot as plt\n",
    "%matplotlib inline\n",
    "from sklearn.preprocessing import LabelEncoder,KBinsDiscretizer\n",
    "import functools"
   ]
  },
  {
   "cell_type": "code",
   "execution_count": 9,
   "metadata": {},
   "outputs": [],
   "source": [
    "all_data = pd.read_csv('data/train.csv.zip')\n",
    "kaggle_test_data = pd.read_csv('data/test.csv.zip')\n",
    "combined = pd.concat([all_data, kaggle_test_data], axis=0, sort=False)\n",
    "cat_column_names = ['X0', 'X1', 'X2', 'X3', 'X4', 'X5', 'X6', 'X8']\n",
    "label_encoders = {col: LabelEncoder().fit(combined[col]) for col in cat_column_names}\n",
    "\n",
    "def preprocess_data(df: pd.DataFrame) -> pd.DataFrame:\n",
    "\n",
    "    # Removing duplicate or constant columns\n",
    "    # as per https://www.kaggle.com/yohanb/categorical-features-encoding-xgb-0-554\n",
    "    columns_to_remove = ['X93', 'X107', 'X233', 'X235', 'X268', 'X289', 'X290', 'X293', 'X297', 'X330', 'X347',\n",
    "                     'X382', 'X232', 'X279', 'X35', 'X37', 'X39', 'X302', 'X113', 'X134', 'X147', 'X222',\n",
    "                     'X102', 'X214', 'X239', 'X76', 'X324', 'X248', 'X253', 'X385', 'X172', 'X216', 'X213',\n",
    "                     'X84', 'X244', 'X122', 'X243', 'X320', 'X245', 'X94', 'X242', 'X199', 'X119', 'X227',\n",
    "                     'X146', 'X226', 'X326', 'X360', 'X262', 'X266', 'X247', 'X254', 'X364', 'X365', 'X296', 'X299',\n",
    "                     'X11', 'X93', 'X107', 'X233', 'X235', 'X268', 'X289', 'X290', 'X293', 'X297', 'X330', 'X347']\n",
    "    data1 = df.drop(columns=columns_to_remove)\n",
    "    for col, encoder in label_encoders.items():\n",
    "        data1[col] = encoder.transform(data1[col])\n",
    "        \n",
    "    return data1\n",
    "\n",
    "train_data = preprocess_data(all_data)\n",
    "kaggle_data = preprocess_data(kaggle_test_data)\n",
    "\n"
   ]
  },
  {
   "cell_type": "markdown",
   "metadata": {},
   "source": [
    "## Discretizing the target variable\n",
    "\n",
    "In this task the target variable y is actually continuous. Here  is the histogram of this variable:"
   ]
  },
  {
   "cell_type": "code",
   "execution_count": 15,
   "metadata": {},
   "outputs": [
    {
     "data": {
      "image/png": "[encoded data removed]",
      "text/plain": [
       "<Figure size 432x288 with 1 Axes>"
      ]
     },
     "metadata": {
      "needs_background": "light"
     },
     "output_type": "display_data"
    }
   ],
   "source": [
    "train_data.iloc[:,1].hist(bins=50);"
   ]
  },
  {
   "cell_type": "markdown",
   "metadata": {},
   "source": [
    "This is a multimodal distribution with a certain degree of smoothness. To change it to a continuous variable we can discretize it."
   ]
  },
  {
   "cell_type": "code",
   "execution_count": 22,
   "metadata": {},
   "outputs": [],
   "source": [
    "# This really should be done on the training set.\n",
    "# We will do that once we make sure the model is working\n",
    "discretizer = KBinsDiscretizer(n_bins=50, encode='ordinal', )\n",
    "discretized_y = discretizer.fit_transform(train_data.y.values.reshape(-1, 1))"
   ]
  },
  {
   "cell_type": "code",
   "execution_count": 37,
   "metadata": {},
   "outputs": [],
   "source": [
    "# This function does inverse transform, given an array of probabilities\n",
    "def inverse_discretizer(discretizer, probabilities):\n",
    "    assert discretizer.n_bins_ == probabilities.shape[-1]\n",
    "    all_options = np.arange(discretizer.n_bins_).reshape(-1,1)\n",
    "    all_options_transformed = discretizer.inverse_transform(all_options)\n",
    "    expected_y = probabilities @ all_options_transformed\n",
    "    return expected_y"
   ]
  },
  {
   "cell_type": "code",
   "execution_count": 44,
   "metadata": {},
   "outputs": [],
   "source": [
    "def test_inverse_discretizer():\n",
    "    discretizer = KBinsDiscretizer(n_bins=50, encode='ordinal', )\n",
    "    discretized_y = discretizer.fit_transform(train_data.y.values.reshape(-1, 1))\n",
    "    probabilities = np.zeros([5, 50])\n",
    "    probabilities[:,-1] = 1\n",
    "    print(inverse_discretizer(discretizer, probabilities))"
   ]
  },
  {
   "cell_type": "code",
   "execution_count": 45,
   "metadata": {},
   "outputs": [
    {
     "name": "stdout",
     "output_type": "stream",
     "text": [
      "[[197.3096]\n",
      " [197.3096]\n",
      " [197.3096]\n",
      " [197.3096]\n",
      " [197.3096]]\n"
     ]
    }
   ],
   "source": [
    "test_inverse_discretizer()"
   ]
  },
  {
   "cell_type": "markdown",
   "metadata": {},
   "source": [
    "## Training the deep learning model\n",
    "\n",
    "First we need to figure out the shape of the parameter array"
   ]
  },
  {
   "cell_type": "code",
   "execution_count": 50,
   "metadata": {},
   "outputs": [],
   "source": [
    "# Find the shape of the parameter array\n",
    "def get_parameter_shape(input_array):\n",
    "    return tuple(np.max(input_array, axis=0).astype(int))"
   ]
  },
  {
   "cell_type": "code",
   "execution_count": 56,
   "metadata": {},
   "outputs": [
    {
     "data": {
      "text/plain": [
       "319"
      ]
     },
     "execution_count": 56,
     "metadata": {},
     "output_type": "execute_result"
    }
   ],
   "source": [
    "test_shape = get_parameter_shape(train_data.iloc[:,2:])\n",
    "len(test_shape)"
   ]
  },
  {
   "cell_type": "code",
   "execution_count": 9,
   "metadata": {},
   "outputs": [],
   "source": [
    "def train_model(data, lambda_1, lambda_2, epochs, verbose=False):\n",
    "    \"\"\"\n",
    "    data: assuming the first column is discretized y!\n",
    "    \"\"\"\n",
    "    shape = get_parameter_shape(data)\n",
    "    data = data.astype(int)\n",
    "      \n",
    "    c_init = tf.zeros_initializer()\n",
    "    c = tf.Variable(initial_value=c_init(shape=shape, dtype=\"float32\"), trainable=True)\n",
    "    \n",
    "    def _get_probabilities():\n",
    "        c_flattened = tf.reshape(c, (1,-1))\n",
    "        p = tf.reshape(tf.nn.softmax(c_flattened), shape)\n",
    "        log_p = tf.reshape(tf.nn.log_softmax(c_flattened), shape)\n",
    "        return p, log_p\n",
    "    \n",
    "    def compute_loss():\n",
    "        epsilon = 1E-10\n",
    "        p, log_p = _get_probabilities()\n",
    "        \n",
    "        #Marginal probabilities\n",
    "        all_dimensions = list(range(len(shape)))\n",
    "        p1 = [tf.reduce_sum(p, all_dimensions-[i], keepdims=True) for i in all_dimensions]\n",
    "        if verbose:\n",
    "            print('p1[5].shape', p1[5].shape)\n",
    "        marginal_p = functools.reduce(tf.multiply, p1)\n",
    "        \n",
    "        #Probabilities of naive-bayes\n",
    "        x_dimensions = list(range(1,len(shape)))\n",
    "        p2 = [tf.reduce_sum(p, x_dimensions-[i], keepdims=True) for i in x_dimensions]\n",
    "        if verbose:\n",
    "            print('p2[5].shape', p2[5].shape)\n",
    "        naive_bayes = functools.reduce(tf.multiply, p2)\n",
    "        naive_bayes = p1[0] ** (-len(x_dimensions)) * naive_bayes\n",
    "        \n",
    "        //what's next?\n",
    "        \n",
    "        \n",
    "        \n",
    "        \n",
    "        \n",
    "        \n",
    "        loss_array = - (data + regularization * p12) * log_p + \\\n",
    "            tf.math.lgamma(regularization * p12 + epsilon)\n",
    "        return tf.reduce_mean(loss_array, axis=None)\n",
    "    \n",
    "    optimizer = tf.keras.optimizers.Adam(learning_rate=3.0)\n",
    "    for i in range(epochs):\n",
    "        optimizer.minimize(compute_loss, var_list=[c])\n",
    "        if (i % 20 == 0) and verbose:\n",
    "            print(compute_loss().numpy())\n",
    "    \n",
    "    \n",
    "    return _get_probabilities()[0].numpy()"
   ]
  },
  {
   "cell_type": "markdown",
   "metadata": {},
   "source": [
    "Here's the quick rundown of the code:\n",
    "1. The probabilities $p_{ij}$ take the values between 0 and 1 and should all add up to 1. For this reason I used a common trick and use `softmax` function that takes a variable $c$ and produces $p$ that satisfies these constraints. Correspondingly, the model learns the values of $c$.\n",
    "1. TensorFlow also provides function `log_softmax` that helps avoid the case of extreme large values returned by `softmax`\n",
    "1. The code is using TensorFlow 2.x. So instead of using `Session.run()` we just call a function (in our case `_get_probabilities()`). Honestly, I don't miss TensorFlow 1.x\n",
    "1. To compute $p_{i+} p_{+j}$ we use matrix multiplication. It is the fastest way.\n",
    "1. Function `lgamma()` is used instead of computing Gamma function first then taking a log\n",
    "1. Gamma function of zero is not defined. This makes the cost function unstable. To deal with that we add a small positive value `epsilon` to the argument, which takes care of the issue.\n",
    "1. We have a custom training loop and using Adam optimizer. \n",
    "1. The function returns an Numpy array of probabilities.\n",
    "\n",
    "Let's train the model for several values of the regularization parameter $\\lambda$:\n"
   ]
  },
  {
   "cell_type": "code",
   "execution_count": 25,
   "metadata": {},
   "outputs": [
    {
     "data": {
      "text/plain": [
       "{'Dependence': 0.41516, 'Fit to data': 0.0}"
      ]
     },
     "execution_count": 25,
     "metadata": {},
     "output_type": "execute_result"
    }
   ],
   "source": [
    "result = run_experiment(salary_experience_array, 0, 200, False)\n",
    "metric(salary_experience_array, result * np.sum(salary_experience_array))"
   ]
  },
  {
   "cell_type": "code",
   "execution_count": 28,
   "metadata": {},
   "outputs": [
    {
     "data": {
      "text/html": [
       "<div>\n",
       "<style scoped>\n",
       "    .dataframe tbody tr th:only-of-type {\n",
       "        vertical-align: middle;\n",
       "    }\n",
       "\n",
       "    .dataframe tbody tr th {\n",
       "        vertical-align: top;\n",
       "    }\n",
       "\n",
       "    .dataframe thead th {\n",
       "        text-align: right;\n",
       "    }\n",
       "</style>\n",
       "<table border=\"1\" class=\"dataframe\">\n",
       "  <thead>\n",
       "    <tr style=\"text-align: right;\">\n",
       "      <th></th>\n",
       "      <th>0-2</th>\n",
       "      <th>3-5</th>\n",
       "      <th>6-8</th>\n",
       "      <th>9-11</th>\n",
       "      <th>12-14</th>\n",
       "      <th>15-17</th>\n",
       "      <th>18-23</th>\n",
       "      <th>24-29</th>\n",
       "      <th>30+</th>\n",
       "    </tr>\n",
       "  </thead>\n",
       "  <tbody>\n",
       "    <tr>\n",
       "      <th>950-1350</th>\n",
       "      <td>7.00018e+00</td>\n",
       "      <td>9.99985e-01</td>\n",
       "      <td>0.99999</td>\n",
       "      <td>4.35136e-10</td>\n",
       "      <td>4.35136e-10</td>\n",
       "      <td>4.35136e-10</td>\n",
       "      <td>4.35136e-10</td>\n",
       "      <td>1.99981e+00</td>\n",
       "      <td>4.35136e-10</td>\n",
       "    </tr>\n",
       "    <tr>\n",
       "      <th>1351-1750</th>\n",
       "      <td>9.99979e+00</td>\n",
       "      <td>5.99975e+00</td>\n",
       "      <td>5.00068</td>\n",
       "      <td>3.00008e+00</td>\n",
       "      <td>4.35136e-10</td>\n",
       "      <td>9.99985e-01</td>\n",
       "      <td>9.99985e-01</td>\n",
       "      <td>9.99985e-01</td>\n",
       "      <td>4.35136e-10</td>\n",
       "    </tr>\n",
       "    <tr>\n",
       "      <th>1751-2150</th>\n",
       "      <td>1.19995e+01</td>\n",
       "      <td>1.39998e+01</td>\n",
       "      <td>7.00018</td>\n",
       "      <td>9.99985e-01</td>\n",
       "      <td>3.99997e+00</td>\n",
       "      <td>1.99981e+00</td>\n",
       "      <td>1.99981e+00</td>\n",
       "      <td>9.99985e-01</td>\n",
       "      <td>1.99981e+00</td>\n",
       "    </tr>\n",
       "    <tr>\n",
       "      <th>2151-2550</th>\n",
       "      <td>4.35136e-10</td>\n",
       "      <td>9.99985e-01</td>\n",
       "      <td>8.00024</td>\n",
       "      <td>3.00008e+00</td>\n",
       "      <td>3.00008e+00</td>\n",
       "      <td>3.00008e+00</td>\n",
       "      <td>5.00068e+00</td>\n",
       "      <td>4.35136e-10</td>\n",
       "      <td>3.99997e+00</td>\n",
       "    </tr>\n",
       "    <tr>\n",
       "      <th>2551-2950</th>\n",
       "      <td>4.35136e-10</td>\n",
       "      <td>4.35136e-10</td>\n",
       "      <td>3.00008</td>\n",
       "      <td>1.99981e+00</td>\n",
       "      <td>4.35136e-10</td>\n",
       "      <td>5.99975e+00</td>\n",
       "      <td>5.00068e+00</td>\n",
       "      <td>1.99981e+00</td>\n",
       "      <td>7.00018e+00</td>\n",
       "    </tr>\n",
       "    <tr>\n",
       "      <th>2951-3750</th>\n",
       "      <td>9.99985e-01</td>\n",
       "      <td>4.35136e-10</td>\n",
       "      <td>0.99999</td>\n",
       "      <td>4.35136e-10</td>\n",
       "      <td>9.99985e-01</td>\n",
       "      <td>9.99985e-01</td>\n",
       "      <td>5.99975e+00</td>\n",
       "      <td>4.35136e-10</td>\n",
       "      <td>1.99981e+00</td>\n",
       "    </tr>\n",
       "  </tbody>\n",
       "</table>\n",
       "</div>"
      ],
      "text/plain": [
       "                   0-2          3-5      6-8         9-11        12-14  \\\n",
       "950-1350   7.00018e+00  9.99985e-01  0.99999  4.35136e-10  4.35136e-10   \n",
       "1351-1750  9.99979e+00  5.99975e+00  5.00068  3.00008e+00  4.35136e-10   \n",
       "1751-2150  1.19995e+01  1.39998e+01  7.00018  9.99985e-01  3.99997e+00   \n",
       "2151-2550  4.35136e-10  9.99985e-01  8.00024  3.00008e+00  3.00008e+00   \n",
       "2551-2950  4.35136e-10  4.35136e-10  3.00008  1.99981e+00  4.35136e-10   \n",
       "2951-3750  9.99985e-01  4.35136e-10  0.99999  4.35136e-10  9.99985e-01   \n",
       "\n",
       "                 15-17        18-23        24-29          30+  \n",
       "950-1350   4.35136e-10  4.35136e-10  1.99981e+00  4.35136e-10  \n",
       "1351-1750  9.99985e-01  9.99985e-01  9.99985e-01  4.35136e-10  \n",
       "1751-2150  1.99981e+00  1.99981e+00  9.99985e-01  1.99981e+00  \n",
       "2151-2550  3.00008e+00  5.00068e+00  4.35136e-10  3.99997e+00  \n",
       "2551-2950  5.99975e+00  5.00068e+00  1.99981e+00  7.00018e+00  \n",
       "2951-3750  9.99985e-01  5.99975e+00  4.35136e-10  1.99981e+00  "
      ]
     },
     "execution_count": 28,
     "metadata": {},
     "output_type": "execute_result"
    }
   ],
   "source": [
    "probabilities = to_data_frame(result)\n",
    "probabilities* np.sum(salary_experience_array)"
   ]
  },
  {
   "cell_type": "markdown",
   "metadata": {},
   "source": [
    "As we see, the predicted counts match the training data very closely. Let's see what the predictions would be for high value of regularization"
   ]
  },
  {
   "cell_type": "code",
   "execution_count": 31,
   "metadata": {},
   "outputs": [
    {
     "data": {
      "text/plain": [
       "{'Dependence': 0.01823, 'Fit to data': 41.26035}"
      ]
     },
     "execution_count": 31,
     "metadata": {},
     "output_type": "execute_result"
    }
   ],
   "source": [
    "result = run_experiment(salary_experience_array, 500, 100, False)\n",
    "metric(salary_experience_array, result * np.sum(salary_experience_array))"
   ]
  },
  {
   "cell_type": "code",
   "execution_count": 32,
   "metadata": {},
   "outputs": [
    {
     "data": {
      "text/html": [
       "<div>\n",
       "<style scoped>\n",
       "    .dataframe tbody tr th:only-of-type {\n",
       "        vertical-align: middle;\n",
       "    }\n",
       "\n",
       "    .dataframe tbody tr th {\n",
       "        vertical-align: top;\n",
       "    }\n",
       "\n",
       "    .dataframe thead th {\n",
       "        text-align: right;\n",
       "    }\n",
       "</style>\n",
       "<table border=\"1\" class=\"dataframe\">\n",
       "  <thead>\n",
       "    <tr style=\"text-align: right;\">\n",
       "      <th></th>\n",
       "      <th>0-2</th>\n",
       "      <th>3-5</th>\n",
       "      <th>6-8</th>\n",
       "      <th>9-11</th>\n",
       "      <th>12-14</th>\n",
       "      <th>15-17</th>\n",
       "      <th>18-23</th>\n",
       "      <th>24-29</th>\n",
       "      <th>30+</th>\n",
       "    </tr>\n",
       "  </thead>\n",
       "  <tbody>\n",
       "    <tr>\n",
       "      <th>950-1350</th>\n",
       "      <td>3.38174</td>\n",
       "      <td>1.60395</td>\n",
       "      <td>1.87039</td>\n",
       "      <td>0.68084</td>\n",
       "      <td>0.68074</td>\n",
       "      <td>0.93380</td>\n",
       "      <td>1.20386</td>\n",
       "      <td>1.02942</td>\n",
       "      <td>1.03341</td>\n",
       "    </tr>\n",
       "    <tr>\n",
       "      <th>1351-1750</th>\n",
       "      <td>6.01283</td>\n",
       "      <td>4.24254</td>\n",
       "      <td>4.69361</td>\n",
       "      <td>2.21369</td>\n",
       "      <td>1.36878</td>\n",
       "      <td>2.31144</td>\n",
       "      <td>2.69139</td>\n",
       "      <td>1.40190</td>\n",
       "      <td>2.14210</td>\n",
       "    </tr>\n",
       "    <tr>\n",
       "      <th>1751-2150</th>\n",
       "      <td>8.47464</td>\n",
       "      <td>7.62323</td>\n",
       "      <td>7.02657</td>\n",
       "      <td>2.62612</td>\n",
       "      <td>3.14746</td>\n",
       "      <td>3.58306</td>\n",
       "      <td>4.34500</td>\n",
       "      <td>2.05495</td>\n",
       "      <td>3.76672</td>\n",
       "    </tr>\n",
       "    <tr>\n",
       "      <th>2151-2550</th>\n",
       "      <td>3.69015</td>\n",
       "      <td>3.08018</td>\n",
       "      <td>5.13886</td>\n",
       "      <td>2.19541</td>\n",
       "      <td>2.05561</td>\n",
       "      <td>2.68246</td>\n",
       "      <td>3.58932</td>\n",
       "      <td>1.13517</td>\n",
       "      <td>2.97027</td>\n",
       "    </tr>\n",
       "    <tr>\n",
       "      <th>2551-2950</th>\n",
       "      <td>3.39100</td>\n",
       "      <td>2.54829</td>\n",
       "      <td>3.81662</td>\n",
       "      <td>1.89522</td>\n",
       "      <td>1.24359</td>\n",
       "      <td>3.16261</td>\n",
       "      <td>3.39575</td>\n",
       "      <td>1.54948</td>\n",
       "      <td>3.48342</td>\n",
       "    </tr>\n",
       "    <tr>\n",
       "      <th>2951-3750</th>\n",
       "      <td>2.20832</td>\n",
       "      <td>1.55586</td>\n",
       "      <td>2.11060</td>\n",
       "      <td>0.78373</td>\n",
       "      <td>0.94152</td>\n",
       "      <td>1.36490</td>\n",
       "      <td>2.67640</td>\n",
       "      <td>0.61857</td>\n",
       "      <td>1.57253</td>\n",
       "    </tr>\n",
       "  </tbody>\n",
       "</table>\n",
       "</div>"
      ],
      "text/plain": [
       "               0-2      3-5      6-8     9-11    12-14    15-17    18-23  \\\n",
       "950-1350   3.38174  1.60395  1.87039  0.68084  0.68074  0.93380  1.20386   \n",
       "1351-1750  6.01283  4.24254  4.69361  2.21369  1.36878  2.31144  2.69139   \n",
       "1751-2150  8.47464  7.62323  7.02657  2.62612  3.14746  3.58306  4.34500   \n",
       "2151-2550  3.69015  3.08018  5.13886  2.19541  2.05561  2.68246  3.58932   \n",
       "2551-2950  3.39100  2.54829  3.81662  1.89522  1.24359  3.16261  3.39575   \n",
       "2951-3750  2.20832  1.55586  2.11060  0.78373  0.94152  1.36490  2.67640   \n",
       "\n",
       "             24-29      30+  \n",
       "950-1350   1.02942  1.03341  \n",
       "1351-1750  1.40190  2.14210  \n",
       "1751-2150  2.05495  3.76672  \n",
       "2151-2550  1.13517  2.97027  \n",
       "2551-2950  1.54948  3.48342  \n",
       "2951-3750  0.61857  1.57253  "
      ]
     },
     "execution_count": 32,
     "metadata": {},
     "output_type": "execute_result"
    }
   ],
   "source": [
    "probabilities = to_data_frame(result)\n",
    "probabilities* np.sum(salary_experience_array)"
   ]
  },
  {
   "cell_type": "markdown",
   "metadata": {},
   "source": [
    "We see that the dependence is much lower, and the predictions is much more smooth, meaning that there are no zeros or exreme values. However the model does not fit very well to the data. How to find optimal regularization parameter $\\lambda$? We will use cross-validation, a common method in machine learning."
   ]
  },
  {
   "cell_type": "markdown",
   "metadata": {},
   "source": [
    "## Cross-validation\n",
    "Our plan is to generate five folds of data and run the train the model for different values of the regularization hyperparameter. For every split we train the model on the training data and test it on the test data. As a metric here we use cross-entropy loss (the first component returning by the `result_metric` function). We use grid search in logarithmic scale."
   ]
  },
  {
   "cell_type": "code",
   "execution_count": 12,
   "metadata": {},
   "outputs": [],
   "source": [
    "def sample_single(data, test_fraction):\n",
    "    \"\"\"Create train and test set\"\"\"\n",
    "    test = np.zeros(shape=data.shape)\n",
    "    for i in range(test.shape[0]):\n",
    "        for j in range(test.shape[1]):\n",
    "            test[i,j] = np.sum(np.random.choice([0,1], size=data[i,j], p=[1-test_fraction, test_fraction]))\n",
    "    return data - test, test"
   ]
  },
  {
   "cell_type": "code",
   "execution_count": 13,
   "metadata": {},
   "outputs": [],
   "source": [
    "#Generating 5 folds\n",
    "np.random.seed(2128506)\n",
    "splits = [sample_single(salary_experience_array, 0.2) for _ in range(5)]"
   ]
  },
  {
   "cell_type": "code",
   "execution_count": 14,
   "metadata": {},
   "outputs": [],
   "source": [
    "def run_cv(data, regularization, epochs, verbose=False):\n",
    "    cs_sum = 0\n",
    "    for train, test in splits:\n",
    "        result = run_experiment(train, regularization, epochs, verbose)\n",
    "        result_metric = metric(test, result * np.sum(test))\n",
    "        cs_sum += result_metric['Fit to data']\n",
    "    return cs_sum / len(data)\n",
    "    "
   ]
  },
  {
   "cell_type": "code",
   "execution_count": 15,
   "metadata": {},
   "outputs": [],
   "source": [
    "cv_results = {regularization: run_cv(salary_experience_array, regularization, 300) \n",
    "              for regularization in [0,2,4,8,16,64,128, 256]}"
   ]
  },
  {
   "cell_type": "code",
   "execution_count": 16,
   "metadata": {},
   "outputs": [
    {
     "data": {
      "text/plain": [
       "{0: -277.8866566666667,\n",
       " 2: -314.990695,\n",
       " 4: -316.59107166666666,\n",
       " 8: -318.0676583333333,\n",
       " 16: -319.3135016666667,\n",
       " 64: -320.434535,\n",
       " 128: -320.05407833333334,\n",
       " 256: -319.23017}"
      ]
     },
     "execution_count": 16,
     "metadata": {},
     "output_type": "execute_result"
    }
   ],
   "source": [
    "cv_results"
   ]
  },
  {
   "cell_type": "code",
   "execution_count": 17,
   "metadata": {},
   "outputs": [
    {
     "data": {
      "image/png": "[encoded data removed]",
      "text/plain": [
       "<Figure size 432x288 with 1 Axes>"
      ]
     },
     "metadata": {
      "needs_background": "light"
     },
     "output_type": "display_data"
    }
   ],
   "source": [
    "results_df = pd.DataFrame(cv_results, index=['Regularization', \"CV Performance\"])\n",
    "results_df.T.plot();"
   ]
  },
  {
   "cell_type": "markdown",
   "metadata": {},
   "source": [
    "Based on the cross-validation results the best performance of the model happens when $\\lambda = 64$. We can also see that the model performance changes little after $\\lambda = 4$. Perhaps it makes sense to average several models of comparable performance. Let's see the results generated by the best model:"
   ]
  },
  {
   "cell_type": "code",
   "execution_count": 33,
   "metadata": {},
   "outputs": [
    {
     "data": {
      "text/plain": [
       "{'Dependence': 0.1763, 'Fit to data': 12.90124}"
      ]
     },
     "execution_count": 33,
     "metadata": {},
     "output_type": "execute_result"
    }
   ],
   "source": [
    "result = run_experiment(salary_experience_array, 64, 500, False)\n",
    "metric(salary_experience_array, result * np.sum(salary_experience_array))"
   ]
  },
  {
   "cell_type": "code",
   "execution_count": 34,
   "metadata": {},
   "outputs": [
    {
     "data": {
      "text/html": [
       "<div>\n",
       "<style scoped>\n",
       "    .dataframe tbody tr th:only-of-type {\n",
       "        vertical-align: middle;\n",
       "    }\n",
       "\n",
       "    .dataframe tbody tr th {\n",
       "        vertical-align: top;\n",
       "    }\n",
       "\n",
       "    .dataframe thead th {\n",
       "        text-align: right;\n",
       "    }\n",
       "</style>\n",
       "<table border=\"1\" class=\"dataframe\">\n",
       "  <thead>\n",
       "    <tr style=\"text-align: right;\">\n",
       "      <th></th>\n",
       "      <th>0-2</th>\n",
       "      <th>3-5</th>\n",
       "      <th>6-8</th>\n",
       "      <th>9-11</th>\n",
       "      <th>12-14</th>\n",
       "      <th>15-17</th>\n",
       "      <th>18-23</th>\n",
       "      <th>24-29</th>\n",
       "      <th>30+</th>\n",
       "    </tr>\n",
       "  </thead>\n",
       "  <tbody>\n",
       "    <tr>\n",
       "      <th>950-1350</th>\n",
       "      <td>5.68973</td>\n",
       "      <td>1.30630</td>\n",
       "      <td>1.50247</td>\n",
       "      <td>0.35553</td>\n",
       "      <td>0.32165</td>\n",
       "      <td>0.43054</td>\n",
       "      <td>0.53850</td>\n",
       "      <td>2.22560</td>\n",
       "      <td>0.44372</td>\n",
       "    </tr>\n",
       "    <tr>\n",
       "      <th>1351-1750</th>\n",
       "      <td>7.71055</td>\n",
       "      <td>5.01276</td>\n",
       "      <td>4.78635</td>\n",
       "      <td>2.98537</td>\n",
       "      <td>0.58018</td>\n",
       "      <td>1.51411</td>\n",
       "      <td>1.66769</td>\n",
       "      <td>1.36694</td>\n",
       "      <td>0.81316</td>\n",
       "    </tr>\n",
       "    <tr>\n",
       "      <th>1751-2150</th>\n",
       "      <td>9.47247</td>\n",
       "      <td>10.56914</td>\n",
       "      <td>6.71977</td>\n",
       "      <td>1.73339</td>\n",
       "      <td>3.90291</td>\n",
       "      <td>2.61106</td>\n",
       "      <td>2.83336</td>\n",
       "      <td>1.61330</td>\n",
       "      <td>2.59546</td>\n",
       "    </tr>\n",
       "    <tr>\n",
       "      <th>2151-2550</th>\n",
       "      <td>1.34993</td>\n",
       "      <td>1.69919</td>\n",
       "      <td>6.76907</td>\n",
       "      <td>2.93928</td>\n",
       "      <td>2.88506</td>\n",
       "      <td>2.93574</td>\n",
       "      <td>4.30820</td>\n",
       "      <td>0.53217</td>\n",
       "      <td>3.55131</td>\n",
       "    </tr>\n",
       "    <tr>\n",
       "      <th>2551-2950</th>\n",
       "      <td>1.20816</td>\n",
       "      <td>0.93791</td>\n",
       "      <td>3.19687</td>\n",
       "      <td>2.07677</td>\n",
       "      <td>0.51816</td>\n",
       "      <td>4.92782</td>\n",
       "      <td>4.20533</td>\n",
       "      <td>2.07660</td>\n",
       "      <td>5.44199</td>\n",
       "    </tr>\n",
       "    <tr>\n",
       "      <th>2951-3750</th>\n",
       "      <td>1.50375</td>\n",
       "      <td>0.62231</td>\n",
       "      <td>1.57091</td>\n",
       "      <td>0.39049</td>\n",
       "      <td>1.24524</td>\n",
       "      <td>1.29622</td>\n",
       "      <td>5.13467</td>\n",
       "      <td>0.32709</td>\n",
       "      <td>2.04776</td>\n",
       "    </tr>\n",
       "  </tbody>\n",
       "</table>\n",
       "</div>"
      ],
      "text/plain": [
       "               0-2       3-5      6-8     9-11    12-14    15-17    18-23  \\\n",
       "950-1350   5.68973   1.30630  1.50247  0.35553  0.32165  0.43054  0.53850   \n",
       "1351-1750  7.71055   5.01276  4.78635  2.98537  0.58018  1.51411  1.66769   \n",
       "1751-2150  9.47247  10.56914  6.71977  1.73339  3.90291  2.61106  2.83336   \n",
       "2151-2550  1.34993   1.69919  6.76907  2.93928  2.88506  2.93574  4.30820   \n",
       "2551-2950  1.20816   0.93791  3.19687  2.07677  0.51816  4.92782  4.20533   \n",
       "2951-3750  1.50375   0.62231  1.57091  0.39049  1.24524  1.29622  5.13467   \n",
       "\n",
       "             24-29      30+  \n",
       "950-1350   2.22560  0.44372  \n",
       "1351-1750  1.36694  0.81316  \n",
       "1751-2150  1.61330  2.59546  \n",
       "2151-2550  0.53217  3.55131  \n",
       "2551-2950  2.07660  5.44199  \n",
       "2951-3750  0.32709  2.04776  "
      ]
     },
     "execution_count": 34,
     "metadata": {},
     "output_type": "execute_result"
    }
   ],
   "source": [
    "probabilities = to_data_frame(result)\n",
    "probabilities* np.sum(salary_experience_array)"
   ]
  },
  {
   "cell_type": "markdown",
   "metadata": {},
   "source": [
    "We see a good balance between prediction smoothness and how well it fit the training data."
   ]
  },
  {
   "cell_type": "markdown",
   "metadata": {},
   "source": [
    "## Conclusion\n",
    "Here we considered a fully Bayesian approach for contingency table smoothing. This approach is different from pseudo-Bayes approach [2,3], where the prior distribution is defined using the data. We can take advantage of compute power that was not available in the 1970s, and use the true Bayesian approach to get more consistent results. It is certainly possible to use the same method for a higher number of dimensions as most real world data are. In this article I used a two dimensional contingency table solely because it is much easier to visualize than multidimensional tables."
   ]
  },
  {
   "cell_type": "markdown",
   "metadata": {},
   "source": [
    "## References\n",
    "\n",
    "[1] Alan Agresti, Categorical data analysis, Whiley, 1990\n",
    "\n",
    "[2] Yvonne Bishop et al., Discrete Multivariate Analysis, MIT, 1975\n",
    "\n",
    "[3] Stephen E. Fienberg and Paul W. Holland, Simultaneous Estimation of Multinomial\n",
    "Cell Probabilities, Journal of the American Statistical Association 68(343):683-691, 1973"
   ]
  }
 ],
 "metadata": {
  "kernelspec": {
   "display_name": "Python 3",
   "language": "python",
   "name": "python3"
  },
  "language_info": {
   "codemirror_mode": {
    "name": "ipython",
    "version": 3
   },
   "file_extension": ".py",
   "mimetype": "text/x-python",
   "name": "python",
   "nbconvert_exporter": "python",
   "pygments_lexer": "ipython3",
   "version": "3.7.6"
  }
 },
 "nbformat": 4,
 "nbformat_minor": 4
}
