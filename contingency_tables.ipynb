{
 "cells": [
  {
   "cell_type": "markdown",
   "metadata": {},
   "source": [
    "# Bayesian probability mass estimation using TensorFlow\n",
    "\n",
    "I have spent some time studying data with categorical variables trying to explore many ways to encode them into numeric features. What if all your variables are categorical? One of the mechanism to describe this scenario known as **contingency tables**.\n",
    "\n",
    "Contingency tables in their essence are (potentially multidimensional) tables where rows, columns and other dimensions represent categorical variables, and the cells contain counts of the occurrences of the combinations. As an example, consider a simple contingency table that represents salary (rows) vs. years of experience (columns). The data are taken from [1] and reported by a study conducted by the Department of Energy."
   ]
  },
  {
   "cell_type": "code",
   "execution_count": 2,
   "metadata": {},
   "outputs": [],
   "source": [
    "import numpy as np\n",
    "import pandas as pd\n",
    "import tensorflow as tf\n",
    "from matplotlib import pyplot as plt\n",
    "%matplotlib inline"
   ]
  },
  {
   "cell_type": "code",
   "execution_count": 3,
   "metadata": {},
   "outputs": [],
   "source": [
    "salary_experience_array = np.array([[7,1,1,0,0,0,0,2,0],\n",
    "                                  [10,6,5,3,0,1,1,1,0],\n",
    "                                   [12,14,7,1,4,2,2,1,2],\n",
    "                                   [0,1,8,3,3,3,5,0,4],\n",
    "                                   [0,0,3,2,0,6,5,2,7],\n",
    "                                   [1,0,1,0,1,1,6,0,2]])"
   ]
  },
  {
   "cell_type": "code",
   "execution_count": 19,
   "metadata": {},
   "outputs": [],
   "source": [
    "def to_data_frame(data):\n",
    "    return pd.DataFrame(data, index=['950-1350', '1351-1750','1751-2150','2151-2550','2551-2950','2951-3750'],\n",
    "                                columns=['0-2', '3-5', '6-8', '9-11', '12-14', '15-17', '18-23', '24-29', '30+'])\n"
   ]
  },
  {
   "cell_type": "code",
   "execution_count": 20,
   "metadata": {},
   "outputs": [
    {
     "data": {
      "text/html": [
       "<div>\n",
       "<style scoped>\n",
       "    .dataframe tbody tr th:only-of-type {\n",
       "        vertical-align: middle;\n",
       "    }\n",
       "\n",
       "    .dataframe tbody tr th {\n",
       "        vertical-align: top;\n",
       "    }\n",
       "\n",
       "    .dataframe thead th {\n",
       "        text-align: right;\n",
       "    }\n",
       "</style>\n",
       "<table border=\"1\" class=\"dataframe\">\n",
       "  <thead>\n",
       "    <tr style=\"text-align: right;\">\n",
       "      <th></th>\n",
       "      <th>0-2</th>\n",
       "      <th>3-5</th>\n",
       "      <th>6-8</th>\n",
       "      <th>9-11</th>\n",
       "      <th>12-14</th>\n",
       "      <th>15-17</th>\n",
       "      <th>18-23</th>\n",
       "      <th>24-29</th>\n",
       "      <th>30+</th>\n",
       "    </tr>\n",
       "  </thead>\n",
       "  <tbody>\n",
       "    <tr>\n",
       "      <th>950-1350</th>\n",
       "      <td>7</td>\n",
       "      <td>1</td>\n",
       "      <td>1</td>\n",
       "      <td>0</td>\n",
       "      <td>0</td>\n",
       "      <td>0</td>\n",
       "      <td>0</td>\n",
       "      <td>2</td>\n",
       "      <td>0</td>\n",
       "    </tr>\n",
       "    <tr>\n",
       "      <th>1351-1750</th>\n",
       "      <td>10</td>\n",
       "      <td>6</td>\n",
       "      <td>5</td>\n",
       "      <td>3</td>\n",
       "      <td>0</td>\n",
       "      <td>1</td>\n",
       "      <td>1</td>\n",
       "      <td>1</td>\n",
       "      <td>0</td>\n",
       "    </tr>\n",
       "    <tr>\n",
       "      <th>1751-2150</th>\n",
       "      <td>12</td>\n",
       "      <td>14</td>\n",
       "      <td>7</td>\n",
       "      <td>1</td>\n",
       "      <td>4</td>\n",
       "      <td>2</td>\n",
       "      <td>2</td>\n",
       "      <td>1</td>\n",
       "      <td>2</td>\n",
       "    </tr>\n",
       "    <tr>\n",
       "      <th>2151-2550</th>\n",
       "      <td>0</td>\n",
       "      <td>1</td>\n",
       "      <td>8</td>\n",
       "      <td>3</td>\n",
       "      <td>3</td>\n",
       "      <td>3</td>\n",
       "      <td>5</td>\n",
       "      <td>0</td>\n",
       "      <td>4</td>\n",
       "    </tr>\n",
       "    <tr>\n",
       "      <th>2551-2950</th>\n",
       "      <td>0</td>\n",
       "      <td>0</td>\n",
       "      <td>3</td>\n",
       "      <td>2</td>\n",
       "      <td>0</td>\n",
       "      <td>6</td>\n",
       "      <td>5</td>\n",
       "      <td>2</td>\n",
       "      <td>7</td>\n",
       "    </tr>\n",
       "    <tr>\n",
       "      <th>2951-3750</th>\n",
       "      <td>1</td>\n",
       "      <td>0</td>\n",
       "      <td>1</td>\n",
       "      <td>0</td>\n",
       "      <td>1</td>\n",
       "      <td>1</td>\n",
       "      <td>6</td>\n",
       "      <td>0</td>\n",
       "      <td>2</td>\n",
       "    </tr>\n",
       "  </tbody>\n",
       "</table>\n",
       "</div>"
      ],
      "text/plain": [
       "           0-2  3-5  6-8  9-11  12-14  15-17  18-23  24-29  30+\n",
       "950-1350     7    1    1     0      0      0      0      2    0\n",
       "1351-1750   10    6    5     3      0      1      1      1    0\n",
       "1751-2150   12   14    7     1      4      2      2      1    2\n",
       "2151-2550    0    1    8     3      3      3      5      0    4\n",
       "2551-2950    0    0    3     2      0      6      5      2    7\n",
       "2951-3750    1    0    1     0      1      1      6      0    2"
      ]
     },
     "execution_count": 20,
     "metadata": {},
     "output_type": "execute_result"
    }
   ],
   "source": [
    "salary_experience = to_data_frame(salary_experience_array)\n",
    "salary_experience"
   ]
  },
  {
   "cell_type": "markdown",
   "metadata": {},
   "source": [
    "The task of probability mass estimation is to learn probabilities of every combination of categories. A naive approach would be to set the probabilities as fractions of observed cell count and total sample size:\n",
    "\n",
    "$$ p_{ij} = \\frac{m_{ij}}{N},  $$\n",
    "\n",
    "where $m_{ij}$ is the cell count. This is called a *saturated* model and it fits the training data perfectly, but usually suffers from poor generalization due to its excessive complexity. One of the symptoms of its poor generalization is that it predicts zero probabilities for all cells with zero count. But zero cell counts can be due to the small sample size, not due to the probabilities being zero. \n",
    "\n",
    "To address this problem various smoothing techniques were proposed. In essence, all of them update the cell probabilities based on some prior assumptions to correct the extreme values of cell counts. One such smoothing assumption is that the variable may be independent, meaning that the joint probability is a product of the probabities of of individual variables:\n",
    "\n",
    "$$ p_{ij} = p_{i+} p_{+j} $$\n",
    "\n",
    "Here the plus in $p_{i+}$ indicates that we take a sum over the second variable: \n",
    "\n",
    "$$ p_{i+} = \\sum_k{p_{ik}} $$\n",
    "\n",
    "In terms of cell counts this would mean:\n",
    "\n",
    "$$ m_{ij} = \\frac{m_{i+} m_{+j}}{N}, $$\n",
    "\n",
    "where $N$ is the sample size.\n",
    "\n",
    "If we assume the variables are independent, we get the following smoothed contingency matrix:"
   ]
  },
  {
   "cell_type": "code",
   "execution_count": 24,
   "metadata": {},
   "outputs": [
    {
     "data": {
      "text/html": [
       "<div>\n",
       "<style scoped>\n",
       "    .dataframe tbody tr th:only-of-type {\n",
       "        vertical-align: middle;\n",
       "    }\n",
       "\n",
       "    .dataframe tbody tr th {\n",
       "        vertical-align: top;\n",
       "    }\n",
       "\n",
       "    .dataframe thead th {\n",
       "        text-align: right;\n",
       "    }\n",
       "</style>\n",
       "<table border=\"1\" class=\"dataframe\">\n",
       "  <thead>\n",
       "    <tr style=\"text-align: right;\">\n",
       "      <th></th>\n",
       "      <th>0-2</th>\n",
       "      <th>3-5</th>\n",
       "      <th>6-8</th>\n",
       "      <th>9-11</th>\n",
       "      <th>12-14</th>\n",
       "      <th>15-17</th>\n",
       "      <th>18-23</th>\n",
       "      <th>24-29</th>\n",
       "      <th>30+</th>\n",
       "    </tr>\n",
       "  </thead>\n",
       "  <tbody>\n",
       "    <tr>\n",
       "      <th>950-1350</th>\n",
       "      <td>2.2449</td>\n",
       "      <td>1.6463</td>\n",
       "      <td>1.8707</td>\n",
       "      <td>0.6735</td>\n",
       "      <td>0.5986</td>\n",
       "      <td>0.9728</td>\n",
       "      <td>1.4218</td>\n",
       "      <td>0.4490</td>\n",
       "      <td>1.1224</td>\n",
       "    </tr>\n",
       "    <tr>\n",
       "      <th>1351-1750</th>\n",
       "      <td>5.5102</td>\n",
       "      <td>4.0408</td>\n",
       "      <td>4.5918</td>\n",
       "      <td>1.6531</td>\n",
       "      <td>1.4694</td>\n",
       "      <td>2.3878</td>\n",
       "      <td>3.4898</td>\n",
       "      <td>1.1020</td>\n",
       "      <td>2.7551</td>\n",
       "    </tr>\n",
       "    <tr>\n",
       "      <th>1751-2150</th>\n",
       "      <td>9.1837</td>\n",
       "      <td>6.7347</td>\n",
       "      <td>7.6531</td>\n",
       "      <td>2.7551</td>\n",
       "      <td>2.4490</td>\n",
       "      <td>3.9796</td>\n",
       "      <td>5.8163</td>\n",
       "      <td>1.8367</td>\n",
       "      <td>4.5918</td>\n",
       "    </tr>\n",
       "    <tr>\n",
       "      <th>2151-2550</th>\n",
       "      <td>5.5102</td>\n",
       "      <td>4.0408</td>\n",
       "      <td>4.5918</td>\n",
       "      <td>1.6531</td>\n",
       "      <td>1.4694</td>\n",
       "      <td>2.3878</td>\n",
       "      <td>3.4898</td>\n",
       "      <td>1.1020</td>\n",
       "      <td>2.7551</td>\n",
       "    </tr>\n",
       "    <tr>\n",
       "      <th>2551-2950</th>\n",
       "      <td>5.1020</td>\n",
       "      <td>3.7415</td>\n",
       "      <td>4.2517</td>\n",
       "      <td>1.5306</td>\n",
       "      <td>1.3605</td>\n",
       "      <td>2.2109</td>\n",
       "      <td>3.2313</td>\n",
       "      <td>1.0204</td>\n",
       "      <td>2.5510</td>\n",
       "    </tr>\n",
       "    <tr>\n",
       "      <th>2951-3750</th>\n",
       "      <td>2.4490</td>\n",
       "      <td>1.7959</td>\n",
       "      <td>2.0408</td>\n",
       "      <td>0.7347</td>\n",
       "      <td>0.6531</td>\n",
       "      <td>1.0612</td>\n",
       "      <td>1.5510</td>\n",
       "      <td>0.4898</td>\n",
       "      <td>1.2245</td>\n",
       "    </tr>\n",
       "  </tbody>\n",
       "</table>\n",
       "</div>"
      ],
      "text/plain": [
       "              0-2     3-5     6-8    9-11   12-14   15-17   18-23   24-29  \\\n",
       "950-1350   2.2449  1.6463  1.8707  0.6735  0.5986  0.9728  1.4218  0.4490   \n",
       "1351-1750  5.5102  4.0408  4.5918  1.6531  1.4694  2.3878  3.4898  1.1020   \n",
       "1751-2150  9.1837  6.7347  7.6531  2.7551  2.4490  3.9796  5.8163  1.8367   \n",
       "2151-2550  5.5102  4.0408  4.5918  1.6531  1.4694  2.3878  3.4898  1.1020   \n",
       "2551-2950  5.1020  3.7415  4.2517  1.5306  1.3605  2.2109  3.2313  1.0204   \n",
       "2951-3750  2.4490  1.7959  2.0408  0.7347  0.6531  1.0612  1.5510  0.4898   \n",
       "\n",
       "              30+  \n",
       "950-1350   1.1224  \n",
       "1351-1750  2.7551  \n",
       "1751-2150  4.5918  \n",
       "2151-2550  2.7551  \n",
       "2551-2950  2.5510  \n",
       "2951-3750  1.2245  "
      ]
     },
     "execution_count": 24,
     "metadata": {},
     "output_type": "execute_result"
    }
   ],
   "source": [
    "m1 = np.sum(salary_experience_array, axis=1, keepdims=True)\n",
    "m2 = np.sum(salary_experience_array, axis=0, keepdims=True).reshape(1, -1)\n",
    "m12 = m1 * m2 / np.sum(salary_experience_array)\n",
    "independent = to_data_frame(m12)\n",
    "pd.set_option('precision', 4)\n",
    "independent"
   ]
  },
  {
   "cell_type": "markdown",
   "metadata": {},
   "source": [
    "Note that the cell counts are very different from the source table. In fact it seems that the independence model does not fit the data well. In statistics there are independence tests specifically designed for contingency tables, but here we are not trying to prove or reject the independence hypothesis. But we will use this hypothesis as our prior belief.\n",
    "\n",
    "For each of the model we would like to measure two things: how well the model fits data and how dependent on each other are the categorical variables. The first is measured using categorical cross entropy, the second using mutual information:\n",
    "\n",
    "$$ I = \\sum_{ij}{p_{ij}log\\big(\\frac{p_{ij}}{p_{i+}p_{+j}}\\big)} $$"
   ]
  },
  {
   "cell_type": "code",
   "execution_count": 6,
   "metadata": {},
   "outputs": [],
   "source": [
    "def metric(actual, estimated):\n",
    "    \"\"\"\n",
    "    Returns the mutual information as a measure of dependence\n",
    "    and adjusted cross-entropy as a measure of fit\n",
    "    \"\"\"\n",
    "    epsilon = 1E-10\n",
    "    m1 = np.sum(estimated, axis=1, keepdims=True)\n",
    "    m2 = np.sum(estimated, axis=0, keepdims=True).reshape(1, -1)\n",
    "    m12 = m1 * m2 / np.sum(estimated)\n",
    "    log_data = np.where(estimated > 0, np.log(estimated/m12 + epsilon), 0)\n",
    "    inf_mat = estimated * log_data / np.sum(estimated)\n",
    "    \n",
    "    log_likelihood = actual * \\\n",
    "        np.where(actual > 0, np.log(estimated / np.sum(estimated) + epsilon), 0)\n",
    "    \n",
    "    return {\"Dependence\" : round(np.sum(inf_mat),5), \n",
    "            \"Fit to data\": round(-np.sum(log_likelihood) - 492.63557257142736, 5)}\n"
   ]
  },
  {
   "cell_type": "markdown",
   "metadata": {},
   "source": [
    "For completely smoothed data we get the following "
   ]
  },
  {
   "cell_type": "code",
   "execution_count": 7,
   "metadata": {},
   "outputs": [
    {
     "data": {
      "text/plain": [
       "{'Dependence': 0.0, 'Fit to data': 61.02768}"
      ]
     },
     "execution_count": 7,
     "metadata": {},
     "output_type": "execute_result"
    }
   ],
   "source": [
    "metric(salary_experience_array, independent.values)"
   ]
  },
  {
   "cell_type": "markdown",
   "metadata": {},
   "source": [
    "We can see that the model of complete independence does not fit data very well. From the other hand, the saturated model fits data perfectly, but implies high degree of variable dependence."
   ]
  },
  {
   "cell_type": "code",
   "execution_count": 8,
   "metadata": {},
   "outputs": [
    {
     "data": {
      "text/plain": [
       "{'Dependence': 0.41515, 'Fit to data': -0.0}"
      ]
     },
     "execution_count": 8,
     "metadata": {},
     "output_type": "execute_result"
    }
   ],
   "source": [
    "metric(salary_experience_array, salary_experience_array)"
   ]
  },
  {
   "cell_type": "markdown",
   "metadata": {},
   "source": [
    "Using Bayesian approach, we would like to encode independence assumption as a prior distribution. First we construct the likelihood function as a product of Multinomial distributions:\n",
    "\n",
    "$$L(p) = N!\\prod_{ij}{\\frac{p_{ij}^{m_{ij}}}{m_{ij}!}}$$\n",
    "\n",
    "Our prior belief is that both dimensions are independent, that is \n",
    "\n",
    "$$ p_{ij} = p_{i+} p_{+j} $$\n",
    "\n",
    "So we constrict the prior distribution as a Dirichlet distribution that is centered around $ p_{i+} p_{+j} $:\n",
    "\n",
    "$$ f_{piror}(p) \\propto \\prod_{ij}{\\Gamma(\\lambda p_{i+} p_{+j})^{-1}p_{ij}^{\\lambda p_{i+} p_{+j}}},  $$\n",
    "\n",
    "where $\\lambda$ is a hyperparameter of the model, and $\\Gamma(x)$ is [the Gamma function](https://en.wikipedia.org/wiki/Gamma_function)"
   ]
  },
  {
   "cell_type": "markdown",
   "metadata": {},
   "source": [
    "So the cost function (negative log-posterior) will be this:\n",
    "\n",
    "$$ \\mathcal{L} = -\\sum_{ij}({m_{ij} + \\lambda p_{i+} p_{+j})log p_{ij}} + \\sum_{ij}{log \\Gamma(\\lambda p_{i+} p_{+j})}$$\n",
    "\n"
   ]
  },
  {
   "cell_type": "markdown",
   "metadata": {},
   "source": [
    "This is a non-linear function with respect to the parameter $p$ and it cannot be minimized analytically. For this reason will use an optimization framework that can optimize non-linear functions. I picked TensorFlow for this purpose, but other frameworks can also be used. The code to run the experiment is pretty simple, but I will walk you through it to explain the details and gotchas."
   ]
  },
  {
   "cell_type": "code",
   "execution_count": 9,
   "metadata": {},
   "outputs": [],
   "source": [
    "def run_experiment(data, regularization, epochs, verbose=False):\n",
    "    \n",
    "    shape = data.shape\n",
    "      \n",
    "    c_init = tf.zeros_initializer()\n",
    "    c = tf.Variable(initial_value=c_init(shape=shape, dtype=\"float32\"), trainable=True)\n",
    "    \n",
    "    def _get_probabilities():\n",
    "        c_flattened = tf.reshape(c, (1,-1))\n",
    "        p = tf.reshape(tf.nn.softmax(c_flattened), shape)\n",
    "        log_p = tf.reshape(tf.nn.log_softmax(c_flattened), shape)\n",
    "        return p, log_p\n",
    "    \n",
    "    def compute_loss():\n",
    "        epsilon = 1E-10\n",
    "        p, log_p = _get_probabilities()\n",
    "        p1 = tf.reduce_sum(p, axis=1, keepdims=True)\n",
    "        p2 = tf.reshape(tf.reduce_sum(p, axis=0, keepdims=True), (1, -1))\n",
    "        p12 = p1 * p2\n",
    "        loss_array = - (data + regularization * p12) * log_p + \\\n",
    "            tf.math.lgamma(regularization * p12 + epsilon)\n",
    "        return tf.reduce_mean(loss_array, axis=None)\n",
    "    \n",
    "    optimizer = tf.keras.optimizers.Adam(learning_rate=3.0)\n",
    "    for i in range(epochs):\n",
    "        optimizer.minimize(compute_loss, var_list=[c])\n",
    "        if (i % 20 == 0) and verbose:\n",
    "            print(compute_loss().numpy())\n",
    "    \n",
    "    \n",
    "    return _get_probabilities()[0].numpy()"
   ]
  },
  {
   "cell_type": "markdown",
   "metadata": {},
   "source": [
    "Here's the quick rundown of the code:\n",
    "1. The probabilities $p_{ij}$ take the values between 0 and 1 and should all add up to 1. For this reason I used a common trick and use `softmax` function that takes a variable $c$ and produces $p$ that satisfies these constraints. Correspondingly, the model learns the values of $c$.\n",
    "1. TensorFlow also provides function `log_softmax` that helps avoid the case of extreme large values returned by `softmax`\n",
    "1. The code is using TensorFlow 2.0. So instead of using `Session.run()` we just call a function (in our case `_get_probabilities()`). Honestly, I don't miss TensorFlow 1.x\n",
    "1. To compute $p_{i+} p_{+j}$ we use matrix multiplication. It is the fastest way.\n",
    "1. Function `lgamma()` is used instead of computing Gamma function first then taking a log\n",
    "1. Gamma function of zero is not defined. This makes the cost function unstable. To deal with that we add a small positive value `epsilon` to the argument, which takes care of the issue.\n",
    "1. We have a custom training loop and using Adam optimizer. \n",
    "1. The function returns an Numpy array of probabilities.\n",
    "\n",
    "Let's train the model for several values of the regularization parameter $\\lambda$:\n"
   ]
  },
  {
   "cell_type": "code",
   "execution_count": 25,
   "metadata": {},
   "outputs": [
    {
     "data": {
      "text/plain": [
       "{'Dependence': 0.41516, 'Fit to data': 0.0}"
      ]
     },
     "execution_count": 25,
     "metadata": {},
     "output_type": "execute_result"
    }
   ],
   "source": [
    "result = run_experiment(salary_experience_array, 0, 200, False)\n",
    "metric(salary_experience_array, result * np.sum(salary_experience_array))"
   ]
  },
  {
   "cell_type": "code",
   "execution_count": 28,
   "metadata": {},
   "outputs": [
    {
     "data": {
      "text/html": [
       "<div>\n",
       "<style scoped>\n",
       "    .dataframe tbody tr th:only-of-type {\n",
       "        vertical-align: middle;\n",
       "    }\n",
       "\n",
       "    .dataframe tbody tr th {\n",
       "        vertical-align: top;\n",
       "    }\n",
       "\n",
       "    .dataframe thead th {\n",
       "        text-align: right;\n",
       "    }\n",
       "</style>\n",
       "<table border=\"1\" class=\"dataframe\">\n",
       "  <thead>\n",
       "    <tr style=\"text-align: right;\">\n",
       "      <th></th>\n",
       "      <th>0-2</th>\n",
       "      <th>3-5</th>\n",
       "      <th>6-8</th>\n",
       "      <th>9-11</th>\n",
       "      <th>12-14</th>\n",
       "      <th>15-17</th>\n",
       "      <th>18-23</th>\n",
       "      <th>24-29</th>\n",
       "      <th>30+</th>\n",
       "    </tr>\n",
       "  </thead>\n",
       "  <tbody>\n",
       "    <tr>\n",
       "      <th>950-1350</th>\n",
       "      <td>7.00018e+00</td>\n",
       "      <td>9.99985e-01</td>\n",
       "      <td>0.99999</td>\n",
       "      <td>4.35136e-10</td>\n",
       "      <td>4.35136e-10</td>\n",
       "      <td>4.35136e-10</td>\n",
       "      <td>4.35136e-10</td>\n",
       "      <td>1.99981e+00</td>\n",
       "      <td>4.35136e-10</td>\n",
       "    </tr>\n",
       "    <tr>\n",
       "      <th>1351-1750</th>\n",
       "      <td>9.99979e+00</td>\n",
       "      <td>5.99975e+00</td>\n",
       "      <td>5.00068</td>\n",
       "      <td>3.00008e+00</td>\n",
       "      <td>4.35136e-10</td>\n",
       "      <td>9.99985e-01</td>\n",
       "      <td>9.99985e-01</td>\n",
       "      <td>9.99985e-01</td>\n",
       "      <td>4.35136e-10</td>\n",
       "    </tr>\n",
       "    <tr>\n",
       "      <th>1751-2150</th>\n",
       "      <td>1.19995e+01</td>\n",
       "      <td>1.39998e+01</td>\n",
       "      <td>7.00018</td>\n",
       "      <td>9.99985e-01</td>\n",
       "      <td>3.99997e+00</td>\n",
       "      <td>1.99981e+00</td>\n",
       "      <td>1.99981e+00</td>\n",
       "      <td>9.99985e-01</td>\n",
       "      <td>1.99981e+00</td>\n",
       "    </tr>\n",
       "    <tr>\n",
       "      <th>2151-2550</th>\n",
       "      <td>4.35136e-10</td>\n",
       "      <td>9.99985e-01</td>\n",
       "      <td>8.00024</td>\n",
       "      <td>3.00008e+00</td>\n",
       "      <td>3.00008e+00</td>\n",
       "      <td>3.00008e+00</td>\n",
       "      <td>5.00068e+00</td>\n",
       "      <td>4.35136e-10</td>\n",
       "      <td>3.99997e+00</td>\n",
       "    </tr>\n",
       "    <tr>\n",
       "      <th>2551-2950</th>\n",
       "      <td>4.35136e-10</td>\n",
       "      <td>4.35136e-10</td>\n",
       "      <td>3.00008</td>\n",
       "      <td>1.99981e+00</td>\n",
       "      <td>4.35136e-10</td>\n",
       "      <td>5.99975e+00</td>\n",
       "      <td>5.00068e+00</td>\n",
       "      <td>1.99981e+00</td>\n",
       "      <td>7.00018e+00</td>\n",
       "    </tr>\n",
       "    <tr>\n",
       "      <th>2951-3750</th>\n",
       "      <td>9.99985e-01</td>\n",
       "      <td>4.35136e-10</td>\n",
       "      <td>0.99999</td>\n",
       "      <td>4.35136e-10</td>\n",
       "      <td>9.99985e-01</td>\n",
       "      <td>9.99985e-01</td>\n",
       "      <td>5.99975e+00</td>\n",
       "      <td>4.35136e-10</td>\n",
       "      <td>1.99981e+00</td>\n",
       "    </tr>\n",
       "  </tbody>\n",
       "</table>\n",
       "</div>"
      ],
      "text/plain": [
       "                   0-2          3-5      6-8         9-11        12-14  \\\n",
       "950-1350   7.00018e+00  9.99985e-01  0.99999  4.35136e-10  4.35136e-10   \n",
       "1351-1750  9.99979e+00  5.99975e+00  5.00068  3.00008e+00  4.35136e-10   \n",
       "1751-2150  1.19995e+01  1.39998e+01  7.00018  9.99985e-01  3.99997e+00   \n",
       "2151-2550  4.35136e-10  9.99985e-01  8.00024  3.00008e+00  3.00008e+00   \n",
       "2551-2950  4.35136e-10  4.35136e-10  3.00008  1.99981e+00  4.35136e-10   \n",
       "2951-3750  9.99985e-01  4.35136e-10  0.99999  4.35136e-10  9.99985e-01   \n",
       "\n",
       "                 15-17        18-23        24-29          30+  \n",
       "950-1350   4.35136e-10  4.35136e-10  1.99981e+00  4.35136e-10  \n",
       "1351-1750  9.99985e-01  9.99985e-01  9.99985e-01  4.35136e-10  \n",
       "1751-2150  1.99981e+00  1.99981e+00  9.99985e-01  1.99981e+00  \n",
       "2151-2550  3.00008e+00  5.00068e+00  4.35136e-10  3.99997e+00  \n",
       "2551-2950  5.99975e+00  5.00068e+00  1.99981e+00  7.00018e+00  \n",
       "2951-3750  9.99985e-01  5.99975e+00  4.35136e-10  1.99981e+00  "
      ]
     },
     "execution_count": 28,
     "metadata": {},
     "output_type": "execute_result"
    }
   ],
   "source": [
    "probabilities = to_data_frame(result)\n",
    "probabilities* np.sum(salary_experience_array)"
   ]
  },
  {
   "cell_type": "markdown",
   "metadata": {},
   "source": [
    "As we see, the predicted counts match the training data very closely. Let's see what the predictions would be for high value of regularization"
   ]
  },
  {
   "cell_type": "code",
   "execution_count": 31,
   "metadata": {},
   "outputs": [
    {
     "data": {
      "text/plain": [
       "{'Dependence': 0.01823, 'Fit to data': 41.26035}"
      ]
     },
     "execution_count": 31,
     "metadata": {},
     "output_type": "execute_result"
    }
   ],
   "source": [
    "result = run_experiment(salary_experience_array, 500, 100, False)\n",
    "metric(salary_experience_array, result * np.sum(salary_experience_array))"
   ]
  },
  {
   "cell_type": "code",
   "execution_count": 32,
   "metadata": {},
   "outputs": [
    {
     "data": {
      "text/html": [
       "<div>\n",
       "<style scoped>\n",
       "    .dataframe tbody tr th:only-of-type {\n",
       "        vertical-align: middle;\n",
       "    }\n",
       "\n",
       "    .dataframe tbody tr th {\n",
       "        vertical-align: top;\n",
       "    }\n",
       "\n",
       "    .dataframe thead th {\n",
       "        text-align: right;\n",
       "    }\n",
       "</style>\n",
       "<table border=\"1\" class=\"dataframe\">\n",
       "  <thead>\n",
       "    <tr style=\"text-align: right;\">\n",
       "      <th></th>\n",
       "      <th>0-2</th>\n",
       "      <th>3-5</th>\n",
       "      <th>6-8</th>\n",
       "      <th>9-11</th>\n",
       "      <th>12-14</th>\n",
       "      <th>15-17</th>\n",
       "      <th>18-23</th>\n",
       "      <th>24-29</th>\n",
       "      <th>30+</th>\n",
       "    </tr>\n",
       "  </thead>\n",
       "  <tbody>\n",
       "    <tr>\n",
       "      <th>950-1350</th>\n",
       "      <td>3.38174</td>\n",
       "      <td>1.60395</td>\n",
       "      <td>1.87039</td>\n",
       "      <td>0.68084</td>\n",
       "      <td>0.68074</td>\n",
       "      <td>0.93380</td>\n",
       "      <td>1.20386</td>\n",
       "      <td>1.02942</td>\n",
       "      <td>1.03341</td>\n",
       "    </tr>\n",
       "    <tr>\n",
       "      <th>1351-1750</th>\n",
       "      <td>6.01283</td>\n",
       "      <td>4.24254</td>\n",
       "      <td>4.69361</td>\n",
       "      <td>2.21369</td>\n",
       "      <td>1.36878</td>\n",
       "      <td>2.31144</td>\n",
       "      <td>2.69139</td>\n",
       "      <td>1.40190</td>\n",
       "      <td>2.14210</td>\n",
       "    </tr>\n",
       "    <tr>\n",
       "      <th>1751-2150</th>\n",
       "      <td>8.47464</td>\n",
       "      <td>7.62323</td>\n",
       "      <td>7.02657</td>\n",
       "      <td>2.62612</td>\n",
       "      <td>3.14746</td>\n",
       "      <td>3.58306</td>\n",
       "      <td>4.34500</td>\n",
       "      <td>2.05495</td>\n",
       "      <td>3.76672</td>\n",
       "    </tr>\n",
       "    <tr>\n",
       "      <th>2151-2550</th>\n",
       "      <td>3.69015</td>\n",
       "      <td>3.08018</td>\n",
       "      <td>5.13886</td>\n",
       "      <td>2.19541</td>\n",
       "      <td>2.05561</td>\n",
       "      <td>2.68246</td>\n",
       "      <td>3.58932</td>\n",
       "      <td>1.13517</td>\n",
       "      <td>2.97027</td>\n",
       "    </tr>\n",
       "    <tr>\n",
       "      <th>2551-2950</th>\n",
       "      <td>3.39100</td>\n",
       "      <td>2.54829</td>\n",
       "      <td>3.81662</td>\n",
       "      <td>1.89522</td>\n",
       "      <td>1.24359</td>\n",
       "      <td>3.16261</td>\n",
       "      <td>3.39575</td>\n",
       "      <td>1.54948</td>\n",
       "      <td>3.48342</td>\n",
       "    </tr>\n",
       "    <tr>\n",
       "      <th>2951-3750</th>\n",
       "      <td>2.20832</td>\n",
       "      <td>1.55586</td>\n",
       "      <td>2.11060</td>\n",
       "      <td>0.78373</td>\n",
       "      <td>0.94152</td>\n",
       "      <td>1.36490</td>\n",
       "      <td>2.67640</td>\n",
       "      <td>0.61857</td>\n",
       "      <td>1.57253</td>\n",
       "    </tr>\n",
       "  </tbody>\n",
       "</table>\n",
       "</div>"
      ],
      "text/plain": [
       "               0-2      3-5      6-8     9-11    12-14    15-17    18-23  \\\n",
       "950-1350   3.38174  1.60395  1.87039  0.68084  0.68074  0.93380  1.20386   \n",
       "1351-1750  6.01283  4.24254  4.69361  2.21369  1.36878  2.31144  2.69139   \n",
       "1751-2150  8.47464  7.62323  7.02657  2.62612  3.14746  3.58306  4.34500   \n",
       "2151-2550  3.69015  3.08018  5.13886  2.19541  2.05561  2.68246  3.58932   \n",
       "2551-2950  3.39100  2.54829  3.81662  1.89522  1.24359  3.16261  3.39575   \n",
       "2951-3750  2.20832  1.55586  2.11060  0.78373  0.94152  1.36490  2.67640   \n",
       "\n",
       "             24-29      30+  \n",
       "950-1350   1.02942  1.03341  \n",
       "1351-1750  1.40190  2.14210  \n",
       "1751-2150  2.05495  3.76672  \n",
       "2151-2550  1.13517  2.97027  \n",
       "2551-2950  1.54948  3.48342  \n",
       "2951-3750  0.61857  1.57253  "
      ]
     },
     "execution_count": 32,
     "metadata": {},
     "output_type": "execute_result"
    }
   ],
   "source": [
    "probabilities = to_data_frame(result)\n",
    "probabilities* np.sum(salary_experience_array)"
   ]
  },
  {
   "cell_type": "markdown",
   "metadata": {},
   "source": [
    "We see that the dependence is much lower, and the predictions is much more smooth, meaning that there are no zeros or exreme values. However the model does not fit very well to the data. How to find optimal regularization parameter $\\lambda$? We will use cross-validation, a common method in machine learning."
   ]
  },
  {
   "cell_type": "markdown",
   "metadata": {},
   "source": [
    "## Cross-validation\n",
    "Our plan is to generate five folds of data and run the train the model for different values of the regularization hyperparameter. For every split we train the model on the training data and test it on the test data. As a metric here we use cross-entropy loss (the first component returning by the `result_metric` function). We use grid search in logarithmic scale."
   ]
  },
  {
   "cell_type": "code",
   "execution_count": 12,
   "metadata": {},
   "outputs": [],
   "source": [
    "def sample_single(data, test_fraction):\n",
    "    \"\"\"Create train and test set\"\"\"\n",
    "    test = np.zeros(shape=data.shape)\n",
    "    for i in range(test.shape[0]):\n",
    "        for j in range(test.shape[1]):\n",
    "            test[i,j] = np.sum(np.random.choice([0,1], size=data[i,j], p=[1-test_fraction, test_fraction]))\n",
    "    return data - test, test"
   ]
  },
  {
   "cell_type": "code",
   "execution_count": 13,
   "metadata": {},
   "outputs": [],
   "source": [
    "#Generating 5 folds\n",
    "np.random.seed(2128506)\n",
    "splits = [sample_single(salary_experience_array, 0.2) for _ in range(5)]"
   ]
  },
  {
   "cell_type": "code",
   "execution_count": 14,
   "metadata": {},
   "outputs": [],
   "source": [
    "def run_cv(data, regularization, epochs, verbose=False):\n",
    "    cs_sum = 0\n",
    "    for train, test in splits:\n",
    "        result = run_experiment(train, regularization, epochs, verbose)\n",
    "        result_metric = metric(test, result * np.sum(test))\n",
    "        cs_sum += result_metric['Fit to data']\n",
    "    return cs_sum / len(data)\n",
    "    "
   ]
  },
  {
   "cell_type": "code",
   "execution_count": 15,
   "metadata": {},
   "outputs": [],
   "source": [
    "cv_results = {regularization: run_cv(salary_experience_array, regularization, 300) \n",
    "              for regularization in [0,2,4,8,16,64,128, 256]}"
   ]
  },
  {
   "cell_type": "code",
   "execution_count": 16,
   "metadata": {},
   "outputs": [
    {
     "data": {
      "text/plain": [
       "{0: -277.8866566666667,\n",
       " 2: -314.990695,\n",
       " 4: -316.59107166666666,\n",
       " 8: -318.0676583333333,\n",
       " 16: -319.3135016666667,\n",
       " 64: -320.434535,\n",
       " 128: -320.05407833333334,\n",
       " 256: -319.23017}"
      ]
     },
     "execution_count": 16,
     "metadata": {},
     "output_type": "execute_result"
    }
   ],
   "source": [
    "cv_results"
   ]
  },
  {
   "cell_type": "code",
   "execution_count": 17,
   "metadata": {},
   "outputs": [
    {
     "data": {
      "image/png": "[encoded data removed]",
      "text/plain": [
       "<Figure size 432x288 with 1 Axes>"
      ]
     },
     "metadata": {
      "needs_background": "light"
     },
     "output_type": "display_data"
    }
   ],
   "source": [
    "results_df = pd.DataFrame(cv_results, index=['Regularization', \"CV Performance\"])\n",
    "results_df.T.plot();"
   ]
  },
  {
   "cell_type": "markdown",
   "metadata": {},
   "source": [
    "Based on the cross-validation results the best performance of the model happens when $\\lambda = 64$. We can also see that the model performance changes little after $\\lambda = 4$. Perhaps it makes sense to average several models of comparable performance. Let's see the results generated by the best model:"
   ]
  },
  {
   "cell_type": "code",
   "execution_count": 33,
   "metadata": {},
   "outputs": [
    {
     "data": {
      "text/plain": [
       "{'Dependence': 0.1763, 'Fit to data': 12.90124}"
      ]
     },
     "execution_count": 33,
     "metadata": {},
     "output_type": "execute_result"
    }
   ],
   "source": [
    "result = run_experiment(salary_experience_array, 64, 500, False)\n",
    "metric(salary_experience_array, result * np.sum(salary_experience_array))"
   ]
  },
  {
   "cell_type": "code",
   "execution_count": 34,
   "metadata": {},
   "outputs": [
    {
     "data": {
      "text/html": [
       "<div>\n",
       "<style scoped>\n",
       "    .dataframe tbody tr th:only-of-type {\n",
       "        vertical-align: middle;\n",
       "    }\n",
       "\n",
       "    .dataframe tbody tr th {\n",
       "        vertical-align: top;\n",
       "    }\n",
       "\n",
       "    .dataframe thead th {\n",
       "        text-align: right;\n",
       "    }\n",
       "</style>\n",
       "<table border=\"1\" class=\"dataframe\">\n",
       "  <thead>\n",
       "    <tr style=\"text-align: right;\">\n",
       "      <th></th>\n",
       "      <th>0-2</th>\n",
       "      <th>3-5</th>\n",
       "      <th>6-8</th>\n",
       "      <th>9-11</th>\n",
       "      <th>12-14</th>\n",
       "      <th>15-17</th>\n",
       "      <th>18-23</th>\n",
       "      <th>24-29</th>\n",
       "      <th>30+</th>\n",
       "    </tr>\n",
       "  </thead>\n",
       "  <tbody>\n",
       "    <tr>\n",
       "      <th>950-1350</th>\n",
       "      <td>5.68973</td>\n",
       "      <td>1.30630</td>\n",
       "      <td>1.50247</td>\n",
       "      <td>0.35553</td>\n",
       "      <td>0.32165</td>\n",
       "      <td>0.43054</td>\n",
       "      <td>0.53850</td>\n",
       "      <td>2.22560</td>\n",
       "      <td>0.44372</td>\n",
       "    </tr>\n",
       "    <tr>\n",
       "      <th>1351-1750</th>\n",
       "      <td>7.71055</td>\n",
       "      <td>5.01276</td>\n",
       "      <td>4.78635</td>\n",
       "      <td>2.98537</td>\n",
       "      <td>0.58018</td>\n",
       "      <td>1.51411</td>\n",
       "      <td>1.66769</td>\n",
       "      <td>1.36694</td>\n",
       "      <td>0.81316</td>\n",
       "    </tr>\n",
       "    <tr>\n",
       "      <th>1751-2150</th>\n",
       "      <td>9.47247</td>\n",
       "      <td>10.56914</td>\n",
       "      <td>6.71977</td>\n",
       "      <td>1.73339</td>\n",
       "      <td>3.90291</td>\n",
       "      <td>2.61106</td>\n",
       "      <td>2.83336</td>\n",
       "      <td>1.61330</td>\n",
       "      <td>2.59546</td>\n",
       "    </tr>\n",
       "    <tr>\n",
       "      <th>2151-2550</th>\n",
       "      <td>1.34993</td>\n",
       "      <td>1.69919</td>\n",
       "      <td>6.76907</td>\n",
       "      <td>2.93928</td>\n",
       "      <td>2.88506</td>\n",
       "      <td>2.93574</td>\n",
       "      <td>4.30820</td>\n",
       "      <td>0.53217</td>\n",
       "      <td>3.55131</td>\n",
       "    </tr>\n",
       "    <tr>\n",
       "      <th>2551-2950</th>\n",
       "      <td>1.20816</td>\n",
       "      <td>0.93791</td>\n",
       "      <td>3.19687</td>\n",
       "      <td>2.07677</td>\n",
       "      <td>0.51816</td>\n",
       "      <td>4.92782</td>\n",
       "      <td>4.20533</td>\n",
       "      <td>2.07660</td>\n",
       "      <td>5.44199</td>\n",
       "    </tr>\n",
       "    <tr>\n",
       "      <th>2951-3750</th>\n",
       "      <td>1.50375</td>\n",
       "      <td>0.62231</td>\n",
       "      <td>1.57091</td>\n",
       "      <td>0.39049</td>\n",
       "      <td>1.24524</td>\n",
       "      <td>1.29622</td>\n",
       "      <td>5.13467</td>\n",
       "      <td>0.32709</td>\n",
       "      <td>2.04776</td>\n",
       "    </tr>\n",
       "  </tbody>\n",
       "</table>\n",
       "</div>"
      ],
      "text/plain": [
       "               0-2       3-5      6-8     9-11    12-14    15-17    18-23  \\\n",
       "950-1350   5.68973   1.30630  1.50247  0.35553  0.32165  0.43054  0.53850   \n",
       "1351-1750  7.71055   5.01276  4.78635  2.98537  0.58018  1.51411  1.66769   \n",
       "1751-2150  9.47247  10.56914  6.71977  1.73339  3.90291  2.61106  2.83336   \n",
       "2151-2550  1.34993   1.69919  6.76907  2.93928  2.88506  2.93574  4.30820   \n",
       "2551-2950  1.20816   0.93791  3.19687  2.07677  0.51816  4.92782  4.20533   \n",
       "2951-3750  1.50375   0.62231  1.57091  0.39049  1.24524  1.29622  5.13467   \n",
       "\n",
       "             24-29      30+  \n",
       "950-1350   2.22560  0.44372  \n",
       "1351-1750  1.36694  0.81316  \n",
       "1751-2150  1.61330  2.59546  \n",
       "2151-2550  0.53217  3.55131  \n",
       "2551-2950  2.07660  5.44199  \n",
       "2951-3750  0.32709  2.04776  "
      ]
     },
     "execution_count": 34,
     "metadata": {},
     "output_type": "execute_result"
    }
   ],
   "source": [
    "probabilities = to_data_frame(result)\n",
    "probabilities* np.sum(salary_experience_array)"
   ]
  },
  {
   "cell_type": "markdown",
   "metadata": {},
   "source": [
    "We see a good balance between prediction smoothness and how well it fit the training data."
   ]
  },
  {
   "cell_type": "markdown",
   "metadata": {},
   "source": [
    "## Conclusion\n",
    "Here we considered a fully Bayesian approach for contingency table smoothing. This approach is different from pseudo-Bayes approach, where the prior distribution is defined using the data. The approach shows good results and is recommended to use for multidimensional contingency tables."
   ]
  }
 ],
 "metadata": {
  "kernelspec": {
   "display_name": "Python 3",
   "language": "python",
   "name": "python3"
  },
  "language_info": {
   "codemirror_mode": {
    "name": "ipython",
    "version": 3
   },
   "file_extension": ".py",
   "mimetype": "text/x-python",
   "name": "python",
   "nbconvert_exporter": "python",
   "pygments_lexer": "ipython3",
   "version": "3.7.6"
  }
 },
 "nbformat": 4,
 "nbformat_minor": 4
}
